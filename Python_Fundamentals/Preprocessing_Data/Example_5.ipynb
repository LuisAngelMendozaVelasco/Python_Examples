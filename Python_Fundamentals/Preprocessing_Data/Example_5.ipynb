{
 "cells": [
  {
   "attachments": {},
   "cell_type": "markdown",
   "metadata": {},
   "source": [
    "# Removing NaNs from Usage Data"
   ]
  },
  {
   "cell_type": "code",
   "execution_count": 1,
   "metadata": {},
   "outputs": [],
   "source": [
    "import pandas as pd"
   ]
  },
  {
   "cell_type": "code",
   "execution_count": 2,
   "metadata": {},
   "outputs": [
    {
     "data": {
      "text/html": [
       "<div>\n",
       "<style scoped>\n",
       "    .dataframe tbody tr th:only-of-type {\n",
       "        vertical-align: middle;\n",
       "    }\n",
       "\n",
       "    .dataframe tbody tr th {\n",
       "        vertical-align: top;\n",
       "    }\n",
       "\n",
       "    .dataframe thead th {\n",
       "        text-align: right;\n",
       "    }\n",
       "</style>\n",
       "<table border=\"1\" class=\"dataframe\">\n",
       "  <thead>\n",
       "    <tr style=\"text-align: right;\">\n",
       "      <th></th>\n",
       "      <th>0</th>\n",
       "      <th>1</th>\n",
       "      <th>2</th>\n",
       "      <th>3</th>\n",
       "    </tr>\n",
       "  </thead>\n",
       "  <tbody>\n",
       "    <tr>\n",
       "      <th>0</th>\n",
       "      <td>3078100.0</td>\n",
       "      <td>2016100.0</td>\n",
       "      <td>2425400.0</td>\n",
       "      <td>7770200.0</td>\n",
       "    </tr>\n",
       "    <tr>\n",
       "      <th>1</th>\n",
       "      <td>2660700.0</td>\n",
       "      <td>2032600.0</td>\n",
       "      <td>2664500.0</td>\n",
       "      <td>7620100.0</td>\n",
       "    </tr>\n",
       "    <tr>\n",
       "      <th>2</th>\n",
       "      <td>2319400.0</td>\n",
       "      <td>1870300.0</td>\n",
       "      <td>2478800.0</td>\n",
       "      <td>6905400.0</td>\n",
       "    </tr>\n",
       "    <tr>\n",
       "      <th>3</th>\n",
       "      <td>2173000.0</td>\n",
       "      <td>1882700.0</td>\n",
       "      <td>2541300.0</td>\n",
       "      <td>6835700.0</td>\n",
       "    </tr>\n",
       "    <tr>\n",
       "      <th>4</th>\n",
       "      <td>2028400.0</td>\n",
       "      <td>1901300.0</td>\n",
       "      <td>2540600.0</td>\n",
       "      <td>6714600.0</td>\n",
       "    </tr>\n",
       "    <tr>\n",
       "      <th>...</th>\n",
       "      <td>...</td>\n",
       "      <td>...</td>\n",
       "      <td>...</td>\n",
       "      <td>...</td>\n",
       "    </tr>\n",
       "    <tr>\n",
       "      <th>310</th>\n",
       "      <td>3079400.0</td>\n",
       "      <td>3464700.0</td>\n",
       "      <td>2545900.0</td>\n",
       "      <td>9110300.0</td>\n",
       "    </tr>\n",
       "    <tr>\n",
       "      <th>311</th>\n",
       "      <td>3581700.0</td>\n",
       "      <td>3429430.0</td>\n",
       "      <td>2449100.0</td>\n",
       "      <td>9480300.0</td>\n",
       "    </tr>\n",
       "    <tr>\n",
       "      <th>312</th>\n",
       "      <td>4219200.0</td>\n",
       "      <td>3559200.0</td>\n",
       "      <td>2460900.0</td>\n",
       "      <td>10260000.0</td>\n",
       "    </tr>\n",
       "    <tr>\n",
       "      <th>313</th>\n",
       "      <td>3997000.0</td>\n",
       "      <td>3563400.0</td>\n",
       "      <td>2561800.0</td>\n",
       "      <td>10145000.0</td>\n",
       "    </tr>\n",
       "    <tr>\n",
       "      <th>314</th>\n",
       "      <td>NaN</td>\n",
       "      <td>NaN</td>\n",
       "      <td>2458700.0</td>\n",
       "      <td>9104900.0</td>\n",
       "    </tr>\n",
       "  </tbody>\n",
       "</table>\n",
       "<p>315 rows × 4 columns</p>\n",
       "</div>"
      ],
      "text/plain": [
       "             0          1          2           3\n",
       "0    3078100.0  2016100.0  2425400.0   7770200.0\n",
       "1    2660700.0  2032600.0  2664500.0   7620100.0\n",
       "2    2319400.0  1870300.0  2478800.0   6905400.0\n",
       "3    2173000.0  1882700.0  2541300.0   6835700.0\n",
       "4    2028400.0  1901300.0  2540600.0   6714600.0\n",
       "..         ...        ...        ...         ...\n",
       "310  3079400.0  3464700.0  2545900.0   9110300.0\n",
       "311  3581700.0  3429430.0  2449100.0   9480300.0\n",
       "312  4219200.0  3559200.0  2460900.0  10260000.0\n",
       "313  3997000.0  3563400.0  2561800.0  10145000.0\n",
       "314        NaN        NaN  2458700.0   9104900.0\n",
       "\n",
       "[315 rows x 4 columns]"
      ]
     },
     "execution_count": 2,
     "metadata": {},
     "output_type": "execute_result"
    }
   ],
   "source": [
    "usage = pd.read_excel(\"./data/electricityData.xlsx\", sheet_name=\"usage\", header=None)\n",
    "usage"
   ]
  },
  {
   "attachments": {},
   "cell_type": "markdown",
   "metadata": {},
   "source": [
    "Each column of the matrix usage contains electricity usage for a given sector. Some Pandas functions ignore missing values for calculations like the average."
   ]
  },
  {
   "cell_type": "code",
   "execution_count": 3,
   "metadata": {},
   "outputs": [
    {
     "data": {
      "text/plain": [
       "0    3.357894e+06\n",
       "1    3.036449e+06\n",
       "2    2.737373e+06\n",
       "3    9.267838e+06\n",
       "dtype: float64"
      ]
     },
     "execution_count": 3,
     "metadata": {},
     "output_type": "execute_result"
    }
   ],
   "source": [
    "usage_mean = usage.mean()\n",
    "usage_mean"
   ]
  },
  {
   "cell_type": "code",
   "execution_count": 4,
   "metadata": {},
   "outputs": [
    {
     "data": {
      "text/html": [
       "<div>\n",
       "<style scoped>\n",
       "    .dataframe tbody tr th:only-of-type {\n",
       "        vertical-align: middle;\n",
       "    }\n",
       "\n",
       "    .dataframe tbody tr th {\n",
       "        vertical-align: top;\n",
       "    }\n",
       "\n",
       "    .dataframe thead th {\n",
       "        text-align: right;\n",
       "    }\n",
       "</style>\n",
       "<table border=\"1\" class=\"dataframe\">\n",
       "  <thead>\n",
       "    <tr style=\"text-align: right;\">\n",
       "      <th></th>\n",
       "      <th>0</th>\n",
       "      <th>1</th>\n",
       "      <th>2</th>\n",
       "      <th>3</th>\n",
       "    </tr>\n",
       "  </thead>\n",
       "  <tbody>\n",
       "    <tr>\n",
       "      <th>0</th>\n",
       "      <td>3078100.0</td>\n",
       "      <td>2016100.0</td>\n",
       "      <td>2425400.0</td>\n",
       "      <td>7770200.0</td>\n",
       "    </tr>\n",
       "    <tr>\n",
       "      <th>1</th>\n",
       "      <td>2660700.0</td>\n",
       "      <td>2032600.0</td>\n",
       "      <td>2664500.0</td>\n",
       "      <td>7620100.0</td>\n",
       "    </tr>\n",
       "    <tr>\n",
       "      <th>2</th>\n",
       "      <td>2319400.0</td>\n",
       "      <td>1870300.0</td>\n",
       "      <td>2478800.0</td>\n",
       "      <td>6905400.0</td>\n",
       "    </tr>\n",
       "    <tr>\n",
       "      <th>3</th>\n",
       "      <td>2173000.0</td>\n",
       "      <td>1882700.0</td>\n",
       "      <td>2541300.0</td>\n",
       "      <td>6835700.0</td>\n",
       "    </tr>\n",
       "    <tr>\n",
       "      <th>4</th>\n",
       "      <td>2028400.0</td>\n",
       "      <td>1901300.0</td>\n",
       "      <td>2540600.0</td>\n",
       "      <td>6714600.0</td>\n",
       "    </tr>\n",
       "    <tr>\n",
       "      <th>...</th>\n",
       "      <td>...</td>\n",
       "      <td>...</td>\n",
       "      <td>...</td>\n",
       "      <td>...</td>\n",
       "    </tr>\n",
       "    <tr>\n",
       "      <th>309</th>\n",
       "      <td>3196000.0</td>\n",
       "      <td>3637400.0</td>\n",
       "      <td>2610200.0</td>\n",
       "      <td>9464200.0</td>\n",
       "    </tr>\n",
       "    <tr>\n",
       "      <th>310</th>\n",
       "      <td>3079400.0</td>\n",
       "      <td>3464700.0</td>\n",
       "      <td>2545900.0</td>\n",
       "      <td>9110300.0</td>\n",
       "    </tr>\n",
       "    <tr>\n",
       "      <th>311</th>\n",
       "      <td>3581700.0</td>\n",
       "      <td>3429430.0</td>\n",
       "      <td>2449100.0</td>\n",
       "      <td>9480300.0</td>\n",
       "    </tr>\n",
       "    <tr>\n",
       "      <th>312</th>\n",
       "      <td>4219200.0</td>\n",
       "      <td>3559200.0</td>\n",
       "      <td>2460900.0</td>\n",
       "      <td>10260000.0</td>\n",
       "    </tr>\n",
       "    <tr>\n",
       "      <th>313</th>\n",
       "      <td>3997000.0</td>\n",
       "      <td>3563400.0</td>\n",
       "      <td>2561800.0</td>\n",
       "      <td>10145000.0</td>\n",
       "    </tr>\n",
       "  </tbody>\n",
       "</table>\n",
       "<p>284 rows × 4 columns</p>\n",
       "</div>"
      ],
      "text/plain": [
       "             0          1          2           3\n",
       "0    3078100.0  2016100.0  2425400.0   7770200.0\n",
       "1    2660700.0  2032600.0  2664500.0   7620100.0\n",
       "2    2319400.0  1870300.0  2478800.0   6905400.0\n",
       "3    2173000.0  1882700.0  2541300.0   6835700.0\n",
       "4    2028400.0  1901300.0  2540600.0   6714600.0\n",
       "..         ...        ...        ...         ...\n",
       "309  3196000.0  3637400.0  2610200.0   9464200.0\n",
       "310  3079400.0  3464700.0  2545900.0   9110300.0\n",
       "311  3581700.0  3429430.0  2449100.0   9480300.0\n",
       "312  4219200.0  3559200.0  2460900.0  10260000.0\n",
       "313  3997000.0  3563400.0  2561800.0  10145000.0\n",
       "\n",
       "[284 rows x 4 columns]"
      ]
     },
     "execution_count": 4,
     "metadata": {},
     "output_type": "execute_result"
    }
   ],
   "source": [
    "usage.dropna(axis=0, inplace=True)\n",
    "usage"
   ]
  },
  {
   "cell_type": "code",
   "execution_count": 5,
   "metadata": {},
   "outputs": [
    {
     "data": {
      "text/plain": [
       "0    3.360801e+06\n",
       "1    3.036172e+06\n",
       "2    2.734450e+06\n",
       "3    9.279670e+06\n",
       "dtype: float64"
      ]
     },
     "execution_count": 5,
     "metadata": {},
     "output_type": "execute_result"
    }
   ],
   "source": [
    "usage_mean = usage.mean()\n",
    "usage_mean"
   ]
  }
 ],
 "metadata": {
  "kernelspec": {
   "display_name": "base",
   "language": "python",
   "name": "python3"
  },
  "language_info": {
   "codemirror_mode": {
    "name": "ipython",
    "version": 3
   },
   "file_extension": ".py",
   "mimetype": "text/x-python",
   "name": "python",
   "nbconvert_exporter": "python",
   "pygments_lexer": "ipython3",
   "version": "3.9.16"
  },
  "orig_nbformat": 4
 },
 "nbformat": 4,
 "nbformat_minor": 2
}
