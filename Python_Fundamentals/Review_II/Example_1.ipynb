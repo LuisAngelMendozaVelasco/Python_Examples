{
 "cells": [
  {
   "attachments": {},
   "cell_type": "markdown",
   "metadata": {},
   "source": [
    "# World's Longest Tunnels"
   ]
  },
  {
   "cell_type": "code",
   "execution_count": 1,
   "metadata": {},
   "outputs": [],
   "source": [
    "import pandas as pd\n",
    "import matplotlib.pyplot as plt\n",
    "import seaborn as sns\n",
    "\n",
    "sns.set_style(\"whitegrid\")"
   ]
  },
  {
   "cell_type": "code",
   "execution_count": 2,
   "metadata": {},
   "outputs": [],
   "source": [
    "europe = [\"Austria\", \"Belarus\", \"Finland\", \"France/Italy\",\n",
    "        \"Germany\", \"Greece\", \"Hungary\", \"Italy\", \"Norway\",\n",
    "        \"Poland\", \"Portugal\", \"Russia\", \"Spain\", \"Sweden\",\n",
    "        \"Switzerland\", \"Switzerland/France\", \"Switzerland/Italy\",\n",
    "        \"Ukraine\", \"United Kingdom\", \"United Kingdom/France\"]\n",
    "na = [\"Canada\", \"United States\"]\n",
    "sa = \"Peru\"\n",
    "asia = [\"China\", \"India\", \"Japan\", \"Singapore\",\n",
    "        \"South Korea\", \"Taiwan\", \"Thailand\", \"Turkey\"]\n",
    "africa = \"South Africa\""
   ]
  },
  {
   "attachments": {},
   "cell_type": "markdown",
   "metadata": {},
   "source": [
    "The longTunnels.csv file contains information about tunnels in use around the world that are at least 13 km long."
   ]
  },
  {
   "cell_type": "code",
   "execution_count": 3,
   "metadata": {},
   "outputs": [
    {
     "data": {
      "text/html": [
       "<div>\n",
       "<style scoped>\n",
       "    .dataframe tbody tr th:only-of-type {\n",
       "        vertical-align: middle;\n",
       "    }\n",
       "\n",
       "    .dataframe tbody tr th {\n",
       "        vertical-align: top;\n",
       "    }\n",
       "\n",
       "    .dataframe thead th {\n",
       "        text-align: right;\n",
       "    }\n",
       "</style>\n",
       "<table border=\"1\" class=\"dataframe\">\n",
       "  <thead>\n",
       "    <tr style=\"text-align: right;\">\n",
       "      <th></th>\n",
       "      <th>Name</th>\n",
       "      <th>Location</th>\n",
       "      <th>Region</th>\n",
       "      <th>Length</th>\n",
       "      <th>Type</th>\n",
       "      <th>Year</th>\n",
       "    </tr>\n",
       "  </thead>\n",
       "  <tbody>\n",
       "    <tr>\n",
       "      <th>0</th>\n",
       "      <td>Guangzhou Metro Line 3</td>\n",
       "      <td>Guangzhou</td>\n",
       "      <td>China</td>\n",
       "      <td>60400</td>\n",
       "      <td>Metro</td>\n",
       "      <td>2010</td>\n",
       "    </tr>\n",
       "    <tr>\n",
       "      <th>1</th>\n",
       "      <td>Gotthard Base Tunnel</td>\n",
       "      <td>Central Swiss Alps</td>\n",
       "      <td>Switzerland</td>\n",
       "      <td>57104</td>\n",
       "      <td>Railway</td>\n",
       "      <td>2016</td>\n",
       "    </tr>\n",
       "    <tr>\n",
       "      <th>2</th>\n",
       "      <td>Beijing Subway Line 10</td>\n",
       "      <td>Beijing</td>\n",
       "      <td>China</td>\n",
       "      <td>57100</td>\n",
       "      <td>Metro</td>\n",
       "      <td>2012</td>\n",
       "    </tr>\n",
       "    <tr>\n",
       "      <th>3</th>\n",
       "      <td>Seikan Tunnel</td>\n",
       "      <td>Tsugaru Strait</td>\n",
       "      <td>Japan</td>\n",
       "      <td>53850</td>\n",
       "      <td>Railway</td>\n",
       "      <td>1988</td>\n",
       "    </tr>\n",
       "    <tr>\n",
       "      <th>4</th>\n",
       "      <td>Channel Tunnel</td>\n",
       "      <td>English Channel</td>\n",
       "      <td>United Kingdom/France</td>\n",
       "      <td>50450</td>\n",
       "      <td>Railway</td>\n",
       "      <td>1994</td>\n",
       "    </tr>\n",
       "  </tbody>\n",
       "</table>\n",
       "</div>"
      ],
      "text/plain": [
       "                     Name            Location                 Region  Length  \\\n",
       "0  Guangzhou Metro Line 3           Guangzhou                  China   60400   \n",
       "1    Gotthard Base Tunnel  Central Swiss Alps            Switzerland   57104   \n",
       "2  Beijing Subway Line 10             Beijing                  China   57100   \n",
       "3           Seikan Tunnel      Tsugaru Strait                  Japan   53850   \n",
       "4          Channel Tunnel     English Channel  United Kingdom/France   50450   \n",
       "\n",
       "      Type  Year  \n",
       "0    Metro  2010  \n",
       "1  Railway  2016  \n",
       "2    Metro  2012  \n",
       "3  Railway  1988  \n",
       "4  Railway  1994  "
      ]
     },
     "execution_count": 3,
     "metadata": {},
     "output_type": "execute_result"
    }
   ],
   "source": [
    "tunnels = pd.read_csv(\"./data/longTunnels.csv\", encoding='latin-1')\n",
    "tunnels.head()"
   ]
  },
  {
   "attachments": {},
   "cell_type": "markdown",
   "metadata": {},
   "source": [
    "The [histplot()](https://seaborn.pydata.org/generated/seaborn.histplot.html#seaborn-histplot) function can bin on integer values. Use the BinMethod property name and specify the value as \"integers\"."
   ]
  },
  {
   "cell_type": "code",
   "execution_count": 4,
   "metadata": {},
   "outputs": [
    {
     "data": {
      "image/png": "[encoded data removed]",
      "text/plain": [
       "<Figure size 640x480 with 1 Axes>"
      ]
     },
     "metadata": {},
     "output_type": "display_data"
    }
   ],
   "source": [
    "plt.figure()\n",
    "sns.histplot(tunnels.Year)\n",
    "plt.title(\"Longest Tunnels\")\n",
    "plt.show()"
   ]
  },
  {
   "attachments": {},
   "cell_type": "markdown",
   "metadata": {},
   "source": [
    "Many different types of tunnels are represented in the Type variable of tunnels."
   ]
  },
  {
   "cell_type": "code",
   "execution_count": 5,
   "metadata": {},
   "outputs": [
    {
     "data": {
      "text/plain": [
       "Index(['Metro', 'Particle Accelerator', 'Railway', 'Road'], dtype='object')"
      ]
     },
     "execution_count": 5,
     "metadata": {},
     "output_type": "execute_result"
    }
   ],
   "source": [
    "tunnels.Type = pd.Categorical(tunnels.Type)\n",
    "types = tunnels.Type.cat.categories\n",
    "types"
   ]
  },
  {
   "cell_type": "code",
   "execution_count": 6,
   "metadata": {},
   "outputs": [
    {
     "data": {
      "text/html": [
       "<div>\n",
       "<style scoped>\n",
       "    .dataframe tbody tr th:only-of-type {\n",
       "        vertical-align: middle;\n",
       "    }\n",
       "\n",
       "    .dataframe tbody tr th {\n",
       "        vertical-align: top;\n",
       "    }\n",
       "\n",
       "    .dataframe thead th {\n",
       "        text-align: right;\n",
       "    }\n",
       "</style>\n",
       "<table border=\"1\" class=\"dataframe\">\n",
       "  <thead>\n",
       "    <tr style=\"text-align: right;\">\n",
       "      <th></th>\n",
       "      <th>Name</th>\n",
       "      <th>Location</th>\n",
       "      <th>Region</th>\n",
       "      <th>Length</th>\n",
       "      <th>Type</th>\n",
       "      <th>Year</th>\n",
       "    </tr>\n",
       "  </thead>\n",
       "  <tbody>\n",
       "    <tr>\n",
       "      <th>46</th>\n",
       "      <td>LEP Tunnel</td>\n",
       "      <td>CERN</td>\n",
       "      <td>Switzerland/France</td>\n",
       "      <td>26659</td>\n",
       "      <td>Particle Accelerator</td>\n",
       "      <td>1989</td>\n",
       "    </tr>\n",
       "    <tr>\n",
       "      <th>66</th>\n",
       "      <td>UNK proton accelerator</td>\n",
       "      <td>Protvino (near Moscow)</td>\n",
       "      <td>Russia</td>\n",
       "      <td>21000</td>\n",
       "      <td>Particle Accelerator</td>\n",
       "      <td>1994</td>\n",
       "    </tr>\n",
       "  </tbody>\n",
       "</table>\n",
       "</div>"
      ],
      "text/plain": [
       "                      Name                Location              Region  \\\n",
       "46              LEP Tunnel                    CERN  Switzerland/France   \n",
       "66  UNK proton accelerator  Protvino (near Moscow)              Russia   \n",
       "\n",
       "    Length                  Type  Year  \n",
       "46   26659  Particle Accelerator  1989  \n",
       "66   21000  Particle Accelerator  1994  "
      ]
     },
     "execution_count": 6,
     "metadata": {},
     "output_type": "execute_result"
    }
   ],
   "source": [
    "pa = tunnels[tunnels.Type == \"Particle Accelerator\"]\n",
    "pa"
   ]
  },
  {
   "attachments": {},
   "cell_type": "markdown",
   "metadata": {},
   "source": [
    "The Region variable in tunnels contains the country or region in which the tunnel can be found."
   ]
  },
  {
   "cell_type": "code",
   "execution_count": 7,
   "metadata": {},
   "outputs": [],
   "source": [
    "tunnels.Region = pd.Categorical(tunnels.Region)"
   ]
  },
  {
   "cell_type": "code",
   "execution_count": 8,
   "metadata": {},
   "outputs": [
    {
     "data": {
      "image/png": "[encoded data removed]",
      "text/plain": [
       "<Figure size 640x480 with 1 Axes>"
      ]
     },
     "metadata": {},
     "output_type": "display_data"
    }
   ],
   "source": [
    "plt.figure()\n",
    "sns.histplot(tunnels.Type[tunnels.Region==\"Japan\"])\n",
    "plt.title(\"Longest Tunnels\")\n",
    "plt.show()"
   ]
  },
  {
   "cell_type": "code",
   "execution_count": 9,
   "metadata": {},
   "outputs": [
    {
     "data": {
      "text/html": [
       "<div>\n",
       "<style scoped>\n",
       "    .dataframe tbody tr th:only-of-type {\n",
       "        vertical-align: middle;\n",
       "    }\n",
       "\n",
       "    .dataframe tbody tr th {\n",
       "        vertical-align: top;\n",
       "    }\n",
       "\n",
       "    .dataframe thead th {\n",
       "        text-align: right;\n",
       "    }\n",
       "</style>\n",
       "<table border=\"1\" class=\"dataframe\">\n",
       "  <thead>\n",
       "    <tr style=\"text-align: right;\">\n",
       "      <th></th>\n",
       "      <th>Name</th>\n",
       "      <th>Location</th>\n",
       "      <th>Region</th>\n",
       "      <th>Length</th>\n",
       "      <th>Type</th>\n",
       "      <th>Year</th>\n",
       "      <th>Continent</th>\n",
       "    </tr>\n",
       "  </thead>\n",
       "  <tbody>\n",
       "    <tr>\n",
       "      <th>0</th>\n",
       "      <td>Guangzhou Metro Line 3</td>\n",
       "      <td>Guangzhou</td>\n",
       "      <td>China</td>\n",
       "      <td>60400</td>\n",
       "      <td>Metro</td>\n",
       "      <td>2010</td>\n",
       "      <td>Asia</td>\n",
       "    </tr>\n",
       "    <tr>\n",
       "      <th>1</th>\n",
       "      <td>Gotthard Base Tunnel</td>\n",
       "      <td>Central Swiss Alps</td>\n",
       "      <td>Switzerland</td>\n",
       "      <td>57104</td>\n",
       "      <td>Railway</td>\n",
       "      <td>2016</td>\n",
       "      <td>Europe</td>\n",
       "    </tr>\n",
       "    <tr>\n",
       "      <th>2</th>\n",
       "      <td>Beijing Subway Line 10</td>\n",
       "      <td>Beijing</td>\n",
       "      <td>China</td>\n",
       "      <td>57100</td>\n",
       "      <td>Metro</td>\n",
       "      <td>2012</td>\n",
       "      <td>Asia</td>\n",
       "    </tr>\n",
       "    <tr>\n",
       "      <th>3</th>\n",
       "      <td>Seikan Tunnel</td>\n",
       "      <td>Tsugaru Strait</td>\n",
       "      <td>Japan</td>\n",
       "      <td>53850</td>\n",
       "      <td>Railway</td>\n",
       "      <td>1988</td>\n",
       "      <td>Asia</td>\n",
       "    </tr>\n",
       "    <tr>\n",
       "      <th>4</th>\n",
       "      <td>Channel Tunnel</td>\n",
       "      <td>English Channel</td>\n",
       "      <td>United Kingdom/France</td>\n",
       "      <td>50450</td>\n",
       "      <td>Railway</td>\n",
       "      <td>1994</td>\n",
       "      <td>Europe</td>\n",
       "    </tr>\n",
       "  </tbody>\n",
       "</table>\n",
       "</div>"
      ],
      "text/plain": [
       "                     Name            Location                 Region  Length  \\\n",
       "0  Guangzhou Metro Line 3           Guangzhou                  China   60400   \n",
       "1    Gotthard Base Tunnel  Central Swiss Alps            Switzerland   57104   \n",
       "2  Beijing Subway Line 10             Beijing                  China   57100   \n",
       "3           Seikan Tunnel      Tsugaru Strait                  Japan   53850   \n",
       "4          Channel Tunnel     English Channel  United Kingdom/France   50450   \n",
       "\n",
       "      Type  Year Continent  \n",
       "0    Metro  2010      Asia  \n",
       "1  Railway  2016    Europe  \n",
       "2    Metro  2012      Asia  \n",
       "3  Railway  1988      Asia  \n",
       "4  Railway  1994    Europe  "
      ]
     },
     "execution_count": 9,
     "metadata": {},
     "output_type": "execute_result"
    }
   ],
   "source": [
    "map_dict = {}\n",
    "for x in tunnels.Region:\n",
    "    if x in europe:\n",
    "        map_dict[x] = \"Europe\"\n",
    "    elif x in na:\n",
    "        map_dict[x] = \"North America\"\n",
    "    elif x in sa:\n",
    "        map_dict[x] = \"South America\"\n",
    "    elif x in asia:\n",
    "        map_dict[x] = \"Asia\"\n",
    "    else:\n",
    "        map_dict[x] = \"Africa\"\n",
    "\n",
    "tunnels[\"Continent\"] = tunnels.Region\n",
    "tunnels[\"Continent\"] = tunnels[\"Continent\"].map(map_dict).astype('category')\n",
    "tunnels.head()"
   ]
  },
  {
   "cell_type": "code",
   "execution_count": 10,
   "metadata": {},
   "outputs": [
    {
     "data": {
      "image/png": "[encoded data removed]",
      "text/plain": [
       "<Figure size 640x480 with 1 Axes>"
      ]
     },
     "metadata": {},
     "output_type": "display_data"
    }
   ],
   "source": [
    "plt.figure()\n",
    "sns.histplot(tunnels.Continent[tunnels.Type == \"Railway\"])\n",
    "plt.title(\"Longest Railway Tunnels\")\n",
    "plt.show()"
   ]
  }
 ],
 "metadata": {
  "kernelspec": {
   "display_name": "base",
   "language": "python",
   "name": "python3"
  },
  "language_info": {
   "codemirror_mode": {
    "name": "ipython",
    "version": 3
   },
   "file_extension": ".py",
   "mimetype": "text/x-python",
   "name": "python",
   "nbconvert_exporter": "python",
   "pygments_lexer": "ipython3",
   "version": "3.9.16"
  },
  "orig_nbformat": 4
 },
 "nbformat": 4,
 "nbformat_minor": 2
}
