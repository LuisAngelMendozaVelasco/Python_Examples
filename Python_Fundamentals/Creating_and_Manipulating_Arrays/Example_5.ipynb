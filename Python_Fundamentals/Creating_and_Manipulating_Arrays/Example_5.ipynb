{
 "cells": [
  {
   "attachments": {},
   "cell_type": "markdown",
   "metadata": {},
   "source": [
    "# Reshape a Matrix"
   ]
  },
  {
   "cell_type": "code",
   "execution_count": 1,
   "metadata": {},
   "outputs": [],
   "source": [
    "import numpy as np"
   ]
  },
  {
   "cell_type": "code",
   "execution_count": 3,
   "metadata": {},
   "outputs": [
    {
     "data": {
      "text/plain": [
       "array([[2, 3],\n",
       "       [5, 9],\n",
       "       [3, 7],\n",
       "       [3, 5],\n",
       "       [7, 1],\n",
       "       [9, 5],\n",
       "       [2, 4],\n",
       "       [9, 6],\n",
       "       [5, 0],\n",
       "       [1, 5],\n",
       "       [8, 7],\n",
       "       [3, 6]])"
      ]
     },
     "execution_count": 3,
     "metadata": {},
     "output_type": "execute_result"
    }
   ],
   "source": [
    "A = np.random.randint(10, size=(12, 2))\n",
    "A"
   ]
  },
  {
   "attachments": {},
   "cell_type": "markdown",
   "metadata": {},
   "source": [
    "We can use the [reshape()](https://numpy.org/doc/stable/reference/generated/numpy.reshape.html#numpy-reshape) function to reshape an m-by-n matrix into a p-by-q matrix, as long as the total number of elements remains the same (i.e., m×n = p×q)."
   ]
  },
  {
   "cell_type": "code",
   "execution_count": 4,
   "metadata": {},
   "outputs": [
    {
     "data": {
      "text/plain": [
       "array([[2, 3, 5],\n",
       "       [9, 3, 7],\n",
       "       [3, 5, 7],\n",
       "       [1, 9, 5],\n",
       "       [2, 4, 9],\n",
       "       [6, 5, 0],\n",
       "       [1, 5, 8],\n",
       "       [7, 3, 6]])"
      ]
     },
     "execution_count": 4,
     "metadata": {},
     "output_type": "execute_result"
    }
   ],
   "source": [
    "B = A.reshape(8, 3)\n",
    "B"
   ]
  },
  {
   "attachments": {},
   "cell_type": "markdown",
   "metadata": {},
   "source": [
    "For convenience, we can leave one of the dimensions as -1 when calling reshape and that dimension will be calculated automatically."
   ]
  },
  {
   "cell_type": "code",
   "execution_count": 5,
   "metadata": {},
   "outputs": [
    {
     "data": {
      "text/plain": [
       "array([[2, 3, 5, 9],\n",
       "       [3, 7, 3, 5],\n",
       "       [7, 1, 9, 5],\n",
       "       [2, 4, 9, 6],\n",
       "       [5, 0, 1, 5],\n",
       "       [8, 7, 3, 6]])"
      ]
     },
     "execution_count": 5,
     "metadata": {},
     "output_type": "execute_result"
    }
   ],
   "source": [
    "C = A.reshape(-1, 4)\n",
    "C"
   ]
  },
  {
   "attachments": {},
   "cell_type": "markdown",
   "metadata": {},
   "source": [
    "We can reshape any matrix into a column vector."
   ]
  },
  {
   "cell_type": "code",
   "execution_count": 9,
   "metadata": {},
   "outputs": [
    {
     "data": {
      "text/plain": [
       "array([[2],\n",
       "       [3],\n",
       "       [5],\n",
       "       [9],\n",
       "       [3],\n",
       "       [7],\n",
       "       [3],\n",
       "       [5],\n",
       "       [7],\n",
       "       [1],\n",
       "       [9],\n",
       "       [5],\n",
       "       [2],\n",
       "       [4],\n",
       "       [9],\n",
       "       [6],\n",
       "       [5],\n",
       "       [0],\n",
       "       [1],\n",
       "       [5],\n",
       "       [8],\n",
       "       [7],\n",
       "       [3],\n",
       "       [6]])"
      ]
     },
     "execution_count": 9,
     "metadata": {},
     "output_type": "execute_result"
    }
   ],
   "source": [
    "D = A.reshape(-1, 1)\n",
    "D"
   ]
  },
  {
   "attachments": {},
   "cell_type": "markdown",
   "metadata": {},
   "source": [
    "Or a  row vector."
   ]
  },
  {
   "cell_type": "code",
   "execution_count": 11,
   "metadata": {},
   "outputs": [
    {
     "data": {
      "text/plain": [
       "array([[2, 3, 5, 9, 3, 7, 3, 5, 7, 1, 9, 5, 2, 4, 9, 6, 5, 0, 1, 5, 8, 7,\n",
       "        3, 6]])"
      ]
     },
     "execution_count": 11,
     "metadata": {},
     "output_type": "execute_result"
    }
   ],
   "source": [
    "E = A.reshape(1, -1)\n",
    "E"
   ]
  }
 ],
 "metadata": {
  "kernelspec": {
   "display_name": "base",
   "language": "python",
   "name": "python3"
  },
  "language_info": {
   "codemirror_mode": {
    "name": "ipython",
    "version": 3
   },
   "file_extension": ".py",
   "mimetype": "text/x-python",
   "name": "python",
   "nbconvert_exporter": "python",
   "pygments_lexer": "ipython3",
   "version": "3.9.16"
  },
  "orig_nbformat": 4
 },
 "nbformat": 4,
 "nbformat_minor": 2
}
