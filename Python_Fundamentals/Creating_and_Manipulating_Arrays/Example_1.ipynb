{
 "cells": [
  {
   "attachments": {},
   "cell_type": "markdown",
   "metadata": {},
   "source": [
    "# Evenly-Spaced Vectors"
   ]
  },
  {
   "cell_type": "code",
   "execution_count": 1,
   "metadata": {},
   "outputs": [],
   "source": [
    "import numpy as np"
   ]
  },
  {
   "attachments": {},
   "cell_type": "markdown",
   "metadata": {},
   "source": [
    "Create evenly-spaced vectors using the [arange()](https://numpy.org/doc/stable/reference/generated/numpy.arange.html#numpy-arange) function."
   ]
  },
  {
   "cell_type": "code",
   "execution_count": 8,
   "metadata": {},
   "outputs": [
    {
     "data": {
      "text/plain": [
       "array([ 5,  6,  7,  8,  9, 10, 11, 12, 13, 14, 15])"
      ]
     },
     "execution_count": 8,
     "metadata": {},
     "output_type": "execute_result"
    }
   ],
   "source": [
    "x = np.arange(5, 16)\n",
    "x"
   ]
  },
  {
   "cell_type": "code",
   "execution_count": 9,
   "metadata": {},
   "outputs": [
    {
     "data": {
      "text/plain": [
       "array([ 3,  5,  7,  9, 11])"
      ]
     },
     "execution_count": 9,
     "metadata": {},
     "output_type": "execute_result"
    }
   ],
   "source": [
    "y = np.arange(3, 12, 2)\n",
    "y"
   ]
  },
  {
   "attachments": {},
   "cell_type": "markdown",
   "metadata": {},
   "source": [
    "Descending arrays can be created using a negative spacing."
   ]
  },
  {
   "cell_type": "code",
   "execution_count": 10,
   "metadata": {},
   "outputs": [
    {
     "data": {
      "text/plain": [
       "array([5, 4, 3, 2, 1])"
      ]
     },
     "execution_count": 10,
     "metadata": {},
     "output_type": "execute_result"
    }
   ],
   "source": [
    "z = np.arange(5, 0, -1)\n",
    "z"
   ]
  },
  {
   "attachments": {},
   "cell_type": "markdown",
   "metadata": {},
   "source": [
    "Depending on the chosen spacing, we are not guaranteed to produce a vector that includes the end point."
   ]
  },
  {
   "cell_type": "code",
   "execution_count": 11,
   "metadata": {},
   "outputs": [
    {
     "data": {
      "text/plain": [
       "array([ 0,  5, 10])"
      ]
     },
     "execution_count": 11,
     "metadata": {},
     "output_type": "execute_result"
    }
   ],
   "source": [
    "A = np.arange(0, 13, 5)\n",
    "A"
   ]
  },
  {
   "attachments": {},
   "cell_type": "markdown",
   "metadata": {},
   "source": [
    "Create evenly-spaced vectors using the [linspace()](https://numpy.org/doc/stable/reference/generated/numpy.linspace.html#) function. It gaurantees that the vector will contain the starting and end points, but does not allow us to control the size of the spacing."
   ]
  },
  {
   "cell_type": "code",
   "execution_count": 12,
   "metadata": {},
   "outputs": [
    {
     "data": {
      "text/plain": [
       "array([0.        , 0.01123596, 0.02247191, 0.03370787, 0.04494382,\n",
       "       0.05617978, 0.06741573, 0.07865169, 0.08988764, 0.1011236 ,\n",
       "       0.11235955, 0.12359551, 0.13483146, 0.14606742, 0.15730337,\n",
       "       0.16853933, 0.17977528, 0.19101124, 0.20224719, 0.21348315,\n",
       "       0.2247191 , 0.23595506, 0.24719101, 0.25842697, 0.26966292,\n",
       "       0.28089888, 0.29213483, 0.30337079, 0.31460674, 0.3258427 ,\n",
       "       0.33707865, 0.34831461, 0.35955056, 0.37078652, 0.38202247,\n",
       "       0.39325843, 0.40449438, 0.41573034, 0.42696629, 0.43820225,\n",
       "       0.4494382 , 0.46067416, 0.47191011, 0.48314607, 0.49438202,\n",
       "       0.50561798, 0.51685393, 0.52808989, 0.53932584, 0.5505618 ,\n",
       "       0.56179775, 0.57303371, 0.58426966, 0.59550562, 0.60674157,\n",
       "       0.61797753, 0.62921348, 0.64044944, 0.65168539, 0.66292135,\n",
       "       0.6741573 , 0.68539326, 0.69662921, 0.70786517, 0.71910112,\n",
       "       0.73033708, 0.74157303, 0.75280899, 0.76404494, 0.7752809 ,\n",
       "       0.78651685, 0.79775281, 0.80898876, 0.82022472, 0.83146067,\n",
       "       0.84269663, 0.85393258, 0.86516854, 0.87640449, 0.88764045,\n",
       "       0.8988764 , 0.91011236, 0.92134831, 0.93258427, 0.94382022,\n",
       "       0.95505618, 0.96629213, 0.97752809, 0.98876404, 1.        ])"
      ]
     },
     "execution_count": 12,
     "metadata": {},
     "output_type": "execute_result"
    }
   ],
   "source": [
    "B = np.linspace(0, 1, 90)\n",
    "B"
   ]
  },
  {
   "attachments": {},
   "cell_type": "markdown",
   "metadata": {},
   "source": [
    "linspace can also help when it is not obvious what the spacing should be between elements."
   ]
  },
  {
   "cell_type": "code",
   "execution_count": 13,
   "metadata": {},
   "outputs": [
    {
     "data": {
      "text/plain": [
       "array([ 9.42477796,  8.76339003,  8.10200211,  7.44061418,  6.77922625,\n",
       "        6.11783833,  5.4564504 ,  4.79506247,  4.13367454,  3.47228662,\n",
       "        2.81089869,  2.14951076,  1.48812284,  0.82673491,  0.16534698,\n",
       "       -0.49604095, -1.15742887, -1.8188168 , -2.48020473, -3.14159265])"
      ]
     },
     "execution_count": 13,
     "metadata": {},
     "output_type": "execute_result"
    }
   ],
   "source": [
    "C = np.linspace(3 * np.pi, -np.pi, 20)\n",
    "C"
   ]
  }
 ],
 "metadata": {
  "kernelspec": {
   "display_name": "base",
   "language": "python",
   "name": "python3"
  },
  "language_info": {
   "codemirror_mode": {
    "name": "ipython",
    "version": 3
   },
   "file_extension": ".py",
   "mimetype": "text/x-python",
   "name": "python",
   "nbconvert_exporter": "python",
   "pygments_lexer": "ipython3",
   "version": "3.9.16"
  },
  "orig_nbformat": 4
 },
 "nbformat": 4,
 "nbformat_minor": 2
}
