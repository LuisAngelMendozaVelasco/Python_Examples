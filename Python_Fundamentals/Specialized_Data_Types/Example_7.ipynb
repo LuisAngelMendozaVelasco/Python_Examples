{
 "cells": [
  {
   "attachments": {},
   "cell_type": "markdown",
   "metadata": {},
   "source": [
    "# Manager Tenure"
   ]
  },
  {
   "cell_type": "code",
   "execution_count": 26,
   "metadata": {},
   "outputs": [],
   "source": [
    "import pandas as pd\n",
    "import numpy as np"
   ]
  },
  {
   "cell_type": "code",
   "execution_count": 9,
   "metadata": {},
   "outputs": [
    {
     "data": {
      "text/plain": [
       "0    2015-07-13\n",
       "1    1996-10-01\n",
       "2    2014-05-27\n",
       "3    2013-06-14\n",
       "4    2014-07-14\n",
       "5    2014-06-16\n",
       "6    2015-06-09\n",
       "7    2015-10-08\n",
       "8    2013-05-30\n",
       "9    2015-12-19\n",
       "10   2016-05-12\n",
       "11   2016-01-18\n",
       "12   2015-06-05\n",
       "13   2015-01-01\n",
       "14   2015-01-02\n",
       "15   2012-10-12\n",
       "16   2015-10-09\n",
       "17   2016-03-11\n",
       "18   2015-01-09\n",
       "19   2016-03-29\n",
       "Name: ManagerHireDate, dtype: datetime64[ns]"
      ]
     },
     "execution_count": 9,
     "metadata": {},
     "output_type": "execute_result"
    }
   ],
   "source": [
    "manager_hire_date = pd.to_datetime(pd.read_csv(\"./data/EPLtable.csv\", encoding='latin-1')[\"ManagerHireDate\"])\n",
    "manager_hire_date"
   ]
  },
  {
   "cell_type": "code",
   "execution_count": 10,
   "metadata": {},
   "outputs": [
    {
     "data": {
      "text/plain": [
       "Timestamp('2015-08-08 00:00:00')"
      ]
     },
     "execution_count": 10,
     "metadata": {},
     "output_type": "execute_result"
    }
   ],
   "source": [
    "season_start = pd.to_datetime(\"2015-08-08\")\n",
    "season_start"
   ]
  },
  {
   "cell_type": "code",
   "execution_count": 15,
   "metadata": {},
   "outputs": [
    {
     "data": {
      "text/plain": [
       "0    1996-10-01\n",
       "1    2012-10-12\n",
       "2    2013-05-30\n",
       "3    2013-06-14\n",
       "4    2014-05-27\n",
       "5    2014-06-16\n",
       "6    2014-07-14\n",
       "7    2015-01-01\n",
       "8    2015-01-02\n",
       "9    2015-01-09\n",
       "10   2015-06-05\n",
       "11   2015-06-09\n",
       "12   2015-07-13\n",
       "13   2015-10-08\n",
       "14   2015-10-09\n",
       "15   2015-12-19\n",
       "16   2016-01-18\n",
       "17   2016-03-11\n",
       "18   2016-03-29\n",
       "19   2016-05-12\n",
       "Name: ManagerHireDate, dtype: datetime64[ns]"
      ]
     },
     "execution_count": 15,
     "metadata": {},
     "output_type": "execute_result"
    }
   ],
   "source": [
    "manager_hire_date.sort_values(inplace=True, ignore_index=True)\n",
    "manager_hire_date"
   ]
  },
  {
   "cell_type": "code",
   "execution_count": 22,
   "metadata": {},
   "outputs": [
    {
     "data": {
      "text/plain": [
       "Timedelta('5855 days 00:00:00')"
      ]
     },
     "execution_count": 22,
     "metadata": {},
     "output_type": "execute_result"
    }
   ],
   "source": [
    "t1 = manager_hire_date[1] - manager_hire_date[0]\n",
    "t1"
   ]
  },
  {
   "cell_type": "code",
   "execution_count": 20,
   "metadata": {},
   "outputs": [
    {
     "data": {
      "text/plain": [
       "Timedelta('7163 days 00:00:00')"
      ]
     },
     "execution_count": 20,
     "metadata": {},
     "output_type": "execute_result"
    }
   ],
   "source": [
    "t2 = manager_hire_date.iloc[-1] - manager_hire_date[0]\n",
    "t2"
   ]
  },
  {
   "cell_type": "code",
   "execution_count": 28,
   "metadata": {},
   "outputs": [
    {
     "data": {
      "text/plain": [
       "16.030445525917713"
      ]
     },
     "execution_count": 28,
     "metadata": {},
     "output_type": "execute_result"
    }
   ],
   "source": [
    "y1 = t1 / np.timedelta64(1, 'Y')\n",
    "y1"
   ]
  },
  {
   "cell_type": "code",
   "execution_count": 29,
   "metadata": {},
   "outputs": [
    {
     "data": {
      "text/plain": [
       "19.61162789105868"
      ]
     },
     "execution_count": 29,
     "metadata": {},
     "output_type": "execute_result"
    }
   ],
   "source": [
    "y2 = t2 / np.timedelta64(1, 'Y')\n",
    "y2"
   ]
  },
  {
   "cell_type": "code",
   "execution_count": 30,
   "metadata": {},
   "outputs": [
    {
     "data": {
      "text/plain": [
       "0    6885 days\n",
       "1    1030 days\n",
       "2     800 days\n",
       "3     785 days\n",
       "4     438 days\n",
       "5     418 days\n",
       "6     390 days\n",
       "7     219 days\n",
       "8     218 days\n",
       "9     211 days\n",
       "10     64 days\n",
       "11     60 days\n",
       "12     26 days\n",
       "13    -61 days\n",
       "14    -62 days\n",
       "15   -133 days\n",
       "16   -163 days\n",
       "17   -216 days\n",
       "18   -234 days\n",
       "19   -278 days\n",
       "Name: ManagerHireDate, dtype: timedelta64[ns]"
      ]
     },
     "execution_count": 30,
     "metadata": {},
     "output_type": "execute_result"
    }
   ],
   "source": [
    "tenure = season_start - manager_hire_date\n",
    "tenure"
   ]
  }
 ],
 "metadata": {
  "kernelspec": {
   "display_name": "base",
   "language": "python",
   "name": "python3"
  },
  "language_info": {
   "codemirror_mode": {
    "name": "ipython",
    "version": 3
   },
   "file_extension": ".py",
   "mimetype": "text/x-python",
   "name": "python",
   "nbconvert_exporter": "python",
   "pygments_lexer": "ipython3",
   "version": "3.9.16"
  },
  "orig_nbformat": 4
 },
 "nbformat": 4,
 "nbformat_minor": 2
}
