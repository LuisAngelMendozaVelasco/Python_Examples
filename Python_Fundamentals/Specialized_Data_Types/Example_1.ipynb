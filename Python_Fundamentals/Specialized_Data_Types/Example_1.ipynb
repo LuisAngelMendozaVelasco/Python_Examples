{
 "cells": [
  {
   "attachments": {},
   "cell_type": "markdown",
   "metadata": {},
   "source": [
    "# datetime Variables"
   ]
  },
  {
   "cell_type": "code",
   "execution_count": 1,
   "metadata": {},
   "outputs": [],
   "source": [
    "import pandas as pd\n",
    "import matplotlib.pyplot as plt\n",
    "import seaborn as sns\n",
    "\n",
    "sns.set_style(\"whitegrid\")"
   ]
  },
  {
   "cell_type": "code",
   "execution_count": 2,
   "metadata": {},
   "outputs": [
    {
     "data": {
      "text/html": [
       "<div>\n",
       "<style scoped>\n",
       "    .dataframe tbody tr th:only-of-type {\n",
       "        vertical-align: middle;\n",
       "    }\n",
       "\n",
       "    .dataframe tbody tr th {\n",
       "        vertical-align: top;\n",
       "    }\n",
       "\n",
       "    .dataframe thead th {\n",
       "        text-align: right;\n",
       "    }\n",
       "</style>\n",
       "<table border=\"1\" class=\"dataframe\">\n",
       "  <thead>\n",
       "    <tr style=\"text-align: right;\">\n",
       "      <th></th>\n",
       "      <th>GameTime</th>\n",
       "      <th>Place</th>\n",
       "      <th>Opponent</th>\n",
       "      <th>Points</th>\n",
       "    </tr>\n",
       "  </thead>\n",
       "  <tbody>\n",
       "    <tr>\n",
       "      <th>0</th>\n",
       "      <td>2016-05-17 20:00:00</td>\n",
       "      <td>H</td>\n",
       "      <td>AFC Bournemouth</td>\n",
       "      <td>3</td>\n",
       "    </tr>\n",
       "    <tr>\n",
       "      <th>1</th>\n",
       "      <td>12-Dec-2015 17:30:00</td>\n",
       "      <td>A</td>\n",
       "      <td>AFC Bournemouth</td>\n",
       "      <td>0</td>\n",
       "    </tr>\n",
       "    <tr>\n",
       "      <th>2</th>\n",
       "      <td>2016-02-28 14:05:00</td>\n",
       "      <td>H</td>\n",
       "      <td>Arsenal FC</td>\n",
       "      <td>3</td>\n",
       "    </tr>\n",
       "    <tr>\n",
       "      <th>3</th>\n",
       "      <td>2015-10-04 16:00:00</td>\n",
       "      <td>A</td>\n",
       "      <td>Arsenal FC</td>\n",
       "      <td>0</td>\n",
       "    </tr>\n",
       "    <tr>\n",
       "      <th>4</th>\n",
       "      <td>16-Apr-2016 15:00:00</td>\n",
       "      <td>H</td>\n",
       "      <td>Aston Villa</td>\n",
       "      <td>3</td>\n",
       "    </tr>\n",
       "  </tbody>\n",
       "</table>\n",
       "</div>"
      ],
      "text/plain": [
       "               GameTime Place         Opponent  Points\n",
       "0   2016-05-17 20:00:00     H  AFC Bournemouth       3\n",
       "1  12-Dec-2015 17:30:00     A  AFC Bournemouth       0\n",
       "2   2016-02-28 14:05:00     H       Arsenal FC       3\n",
       "3   2015-10-04 16:00:00     A       Arsenal FC       0\n",
       "4  16-Apr-2016 15:00:00     H      Aston Villa       3"
      ]
     },
     "execution_count": 2,
     "metadata": {},
     "output_type": "execute_result"
    }
   ],
   "source": [
    "manU = pd.read_excel(\"./data/data.xlsx\", sheet_name=\"manU\")\n",
    "manU.head()"
   ]
  },
  {
   "cell_type": "code",
   "execution_count": 3,
   "metadata": {},
   "outputs": [
    {
     "data": {
      "text/html": [
       "<div>\n",
       "<style scoped>\n",
       "    .dataframe tbody tr th:only-of-type {\n",
       "        vertical-align: middle;\n",
       "    }\n",
       "\n",
       "    .dataframe tbody tr th {\n",
       "        vertical-align: top;\n",
       "    }\n",
       "\n",
       "    .dataframe thead th {\n",
       "        text-align: right;\n",
       "    }\n",
       "</style>\n",
       "<table border=\"1\" class=\"dataframe\">\n",
       "  <thead>\n",
       "    <tr style=\"text-align: right;\">\n",
       "      <th></th>\n",
       "      <th>GameTime</th>\n",
       "      <th>Place</th>\n",
       "      <th>Opponent</th>\n",
       "      <th>Points</th>\n",
       "    </tr>\n",
       "  </thead>\n",
       "  <tbody>\n",
       "    <tr>\n",
       "      <th>0</th>\n",
       "      <td>2016-05-17 20:00:00</td>\n",
       "      <td>H</td>\n",
       "      <td>AFC Bournemouth</td>\n",
       "      <td>3</td>\n",
       "    </tr>\n",
       "    <tr>\n",
       "      <th>1</th>\n",
       "      <td>2015-12-12 17:30:00</td>\n",
       "      <td>A</td>\n",
       "      <td>AFC Bournemouth</td>\n",
       "      <td>0</td>\n",
       "    </tr>\n",
       "    <tr>\n",
       "      <th>2</th>\n",
       "      <td>2016-02-28 14:05:00</td>\n",
       "      <td>H</td>\n",
       "      <td>Arsenal FC</td>\n",
       "      <td>3</td>\n",
       "    </tr>\n",
       "    <tr>\n",
       "      <th>3</th>\n",
       "      <td>2015-10-04 16:00:00</td>\n",
       "      <td>A</td>\n",
       "      <td>Arsenal FC</td>\n",
       "      <td>0</td>\n",
       "    </tr>\n",
       "    <tr>\n",
       "      <th>4</th>\n",
       "      <td>2016-04-16 15:00:00</td>\n",
       "      <td>H</td>\n",
       "      <td>Aston Villa</td>\n",
       "      <td>3</td>\n",
       "    </tr>\n",
       "  </tbody>\n",
       "</table>\n",
       "</div>"
      ],
      "text/plain": [
       "             GameTime Place         Opponent  Points\n",
       "0 2016-05-17 20:00:00     H  AFC Bournemouth       3\n",
       "1 2015-12-12 17:30:00     A  AFC Bournemouth       0\n",
       "2 2016-02-28 14:05:00     H       Arsenal FC       3\n",
       "3 2015-10-04 16:00:00     A       Arsenal FC       0\n",
       "4 2016-04-16 15:00:00     H      Aston Villa       3"
      ]
     },
     "execution_count": 3,
     "metadata": {},
     "output_type": "execute_result"
    }
   ],
   "source": [
    "manU.GameTime = pd.to_datetime(manU.GameTime)\n",
    "manU.head()"
   ]
  },
  {
   "cell_type": "code",
   "execution_count": 4,
   "metadata": {},
   "outputs": [
    {
     "data": {
      "text/plain": [
       "0   2016-05-17 20:00:00\n",
       "1   2015-12-12 17:30:00\n",
       "2   2016-02-28 14:05:00\n",
       "3   2015-10-04 16:00:00\n",
       "4   2016-04-16 15:00:00\n",
       "Name: GameTime, dtype: datetime64[ns]"
      ]
     },
     "execution_count": 4,
     "metadata": {},
     "output_type": "execute_result"
    }
   ],
   "source": [
    "manU.GameTime.head()"
   ]
  },
  {
   "attachments": {},
   "cell_type": "markdown",
   "metadata": {},
   "source": [
    "The manU variable contains a list of Manchester United games in the 2015-2016 season. Notice that the GameTime variable is a datetime array. We can perform many functions directly on datetime arrays."
   ]
  },
  {
   "cell_type": "code",
   "execution_count": 5,
   "metadata": {},
   "outputs": [
    {
     "data": {
      "text/html": [
       "<div>\n",
       "<style scoped>\n",
       "    .dataframe tbody tr th:only-of-type {\n",
       "        vertical-align: middle;\n",
       "    }\n",
       "\n",
       "    .dataframe tbody tr th {\n",
       "        vertical-align: top;\n",
       "    }\n",
       "\n",
       "    .dataframe thead th {\n",
       "        text-align: right;\n",
       "    }\n",
       "</style>\n",
       "<table border=\"1\" class=\"dataframe\">\n",
       "  <thead>\n",
       "    <tr style=\"text-align: right;\">\n",
       "      <th></th>\n",
       "      <th>GameTime</th>\n",
       "      <th>Place</th>\n",
       "      <th>Opponent</th>\n",
       "      <th>Points</th>\n",
       "    </tr>\n",
       "  </thead>\n",
       "  <tbody>\n",
       "    <tr>\n",
       "      <th>0</th>\n",
       "      <td>2015-08-08 12:45:00</td>\n",
       "      <td>H</td>\n",
       "      <td>Tottenham Hotspur</td>\n",
       "      <td>3</td>\n",
       "    </tr>\n",
       "    <tr>\n",
       "      <th>1</th>\n",
       "      <td>2015-08-14 19:45:00</td>\n",
       "      <td>A</td>\n",
       "      <td>Aston Villa</td>\n",
       "      <td>3</td>\n",
       "    </tr>\n",
       "    <tr>\n",
       "      <th>2</th>\n",
       "      <td>2015-08-22 12:45:00</td>\n",
       "      <td>H</td>\n",
       "      <td>Newcastle United</td>\n",
       "      <td>1</td>\n",
       "    </tr>\n",
       "    <tr>\n",
       "      <th>3</th>\n",
       "      <td>2015-08-30 16:00:00</td>\n",
       "      <td>A</td>\n",
       "      <td>Swansea City</td>\n",
       "      <td>0</td>\n",
       "    </tr>\n",
       "    <tr>\n",
       "      <th>4</th>\n",
       "      <td>2015-09-12 17:30:00</td>\n",
       "      <td>H</td>\n",
       "      <td>Liverpool FC</td>\n",
       "      <td>3</td>\n",
       "    </tr>\n",
       "  </tbody>\n",
       "</table>\n",
       "</div>"
      ],
      "text/plain": [
       "             GameTime Place           Opponent  Points\n",
       "0 2015-08-08 12:45:00     H  Tottenham Hotspur       3\n",
       "1 2015-08-14 19:45:00     A        Aston Villa       3\n",
       "2 2015-08-22 12:45:00     H   Newcastle United       1\n",
       "3 2015-08-30 16:00:00     A       Swansea City       0\n",
       "4 2015-09-12 17:30:00     H       Liverpool FC       3"
      ]
     },
     "execution_count": 5,
     "metadata": {},
     "output_type": "execute_result"
    }
   ],
   "source": [
    "manU.sort_values(by=\"GameTime\", inplace=True, ignore_index=True)\n",
    "manU.head()"
   ]
  },
  {
   "cell_type": "code",
   "execution_count": 6,
   "metadata": {},
   "outputs": [
    {
     "data": {
      "text/plain": [
       "0     3\n",
       "1     6\n",
       "2     7\n",
       "3     7\n",
       "4    10\n",
       "Name: Points, dtype: int64"
      ]
     },
     "execution_count": 6,
     "metadata": {},
     "output_type": "execute_result"
    }
   ],
   "source": [
    "total_points = manU.Points.cumsum()\n",
    "total_points.head()"
   ]
  },
  {
   "cell_type": "code",
   "execution_count": 7,
   "metadata": {},
   "outputs": [
    {
     "data": {
      "image/png": "[encoded data removed]",
      "text/plain": [
       "<Figure size 640x480 with 1 Axes>"
      ]
     },
     "metadata": {},
     "output_type": "display_data"
    }
   ],
   "source": [
    "plt.figure()\n",
    "plt.plot(manU.GameTime, total_points)\n",
    "plt.xticks(pd.to_datetime(pd.DataFrame({'year': [2015]*3 + [2016]*3, 'month': [8, 10, 12, 2, 4, 6], 'day': [1]*6})))\n",
    "plt.xlabel(\"Date\")\n",
    "plt.ylabel(\"Cumulative points\")\n",
    "plt.show()"
   ]
  }
 ],
 "metadata": {
  "kernelspec": {
   "display_name": "base",
   "language": "python",
   "name": "python3"
  },
  "language_info": {
   "codemirror_mode": {
    "name": "ipython",
    "version": 3
   },
   "file_extension": ".py",
   "mimetype": "text/x-python",
   "name": "python",
   "nbconvert_exporter": "python",
   "pygments_lexer": "ipython3",
   "version": "3.9.16"
  },
  "orig_nbformat": 4
 },
 "nbformat": 4,
 "nbformat_minor": 2
}
