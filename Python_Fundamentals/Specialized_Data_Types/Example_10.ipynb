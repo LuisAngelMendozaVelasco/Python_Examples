{
 "cells": [
  {
   "attachments": {},
   "cell_type": "markdown",
   "metadata": {},
   "source": [
    "# Category Names and Ordinals"
   ]
  },
  {
   "cell_type": "code",
   "execution_count": 1,
   "metadata": {},
   "outputs": [],
   "source": [
    "import pandas as pd"
   ]
  },
  {
   "cell_type": "code",
   "execution_count": 2,
   "metadata": {},
   "outputs": [],
   "source": [
    "x = [2, 4, 1, 1, 2, 2, 1, 2, 4]\n",
    "xlevels = [\"tiny\", \"small\", \"big\", \"huge\"]"
   ]
  },
  {
   "attachments": {},
   "cell_type": "markdown",
   "metadata": {},
   "source": [
    "We can create a categorical array and indicate the names that correspond to these categories."
   ]
  },
  {
   "cell_type": "code",
   "execution_count": 3,
   "metadata": {},
   "outputs": [
    {
     "data": {
      "text/plain": [
       "['small', 'huge', 'tiny', 'tiny', 'small', 'small', 'tiny', 'small', 'huge']\n",
       "Categories (3, object): ['tiny', 'small', 'huge']"
      ]
     },
     "execution_count": 3,
     "metadata": {},
     "output_type": "execute_result"
    }
   ],
   "source": [
    "map_dict = {}\n",
    "for i in range(1, 5):\n",
    "    map_dict[i] = xlevels[i-1]\n",
    "\n",
    "y = pd.Categorical(x)\n",
    "y = y.map(map_dict).astype('category')\n",
    "y"
   ]
  },
  {
   "attachments": {},
   "cell_type": "markdown",
   "metadata": {},
   "source": [
    "If our categories have an inherent ordering – for example, “low”, “medium”, and “high” – we can specify this with an optional property \"ordered\"."
   ]
  },
  {
   "cell_type": "code",
   "execution_count": 4,
   "metadata": {},
   "outputs": [
    {
     "data": {
      "text/plain": [
       "['small', 'huge', 'tiny', 'tiny', 'small', 'small', 'tiny', 'small', 'huge']\n",
       "Categories (3, object): ['tiny' < 'small' < 'huge']"
      ]
     },
     "execution_count": 4,
     "metadata": {},
     "output_type": "execute_result"
    }
   ],
   "source": [
    "map_dict = {}\n",
    "for i in range(1, 5):\n",
    "    map_dict[i] = xlevels[i-1]\n",
    "\n",
    "y = pd.Categorical(x, ordered=True)\n",
    "y = y.map(map_dict).astype('category')\n",
    "y"
   ]
  },
  {
   "cell_type": "code",
   "execution_count": 5,
   "metadata": {},
   "outputs": [
    {
     "data": {
      "text/plain": [
       "array([ True, False, False, False,  True,  True, False,  True, False])"
      ]
     },
     "execution_count": 5,
     "metadata": {},
     "output_type": "execute_result"
    }
   ],
   "source": [
    "is_small = y == \"small\"\n",
    "is_small"
   ]
  },
  {
   "cell_type": "code",
   "execution_count": 6,
   "metadata": {},
   "outputs": [
    {
     "data": {
      "text/plain": [
       "array([ True,  True, False, False,  True,  True, False,  True,  True])"
      ]
     },
     "execution_count": 6,
     "metadata": {},
     "output_type": "execute_result"
    }
   ],
   "source": [
    "idx = y > \"tiny\"\n",
    "idx"
   ]
  }
 ],
 "metadata": {
  "kernelspec": {
   "display_name": "base",
   "language": "python",
   "name": "python3"
  },
  "language_info": {
   "codemirror_mode": {
    "name": "ipython",
    "version": 3
   },
   "file_extension": ".py",
   "mimetype": "text/x-python",
   "name": "python",
   "nbconvert_exporter": "python",
   "pygments_lexer": "ipython3",
   "version": "3.9.16"
  },
  "orig_nbformat": 4
 },
 "nbformat": 4,
 "nbformat_minor": 2
}
