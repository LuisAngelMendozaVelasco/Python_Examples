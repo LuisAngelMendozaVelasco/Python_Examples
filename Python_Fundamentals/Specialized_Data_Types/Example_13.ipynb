{
 "cells": [
  {
   "attachments": {},
   "cell_type": "markdown",
   "metadata": {},
   "source": [
    "# Box Office Grosses"
   ]
  },
  {
   "cell_type": "code",
   "execution_count": 1,
   "metadata": {},
   "outputs": [],
   "source": [
    "import pandas as pd\n",
    "import matplotlib.pyplot as plt\n",
    "import seaborn as sns\n",
    "\n",
    "sns.set_style(\"whitegrid\")"
   ]
  },
  {
   "cell_type": "code",
   "execution_count": 2,
   "metadata": {},
   "outputs": [
    {
     "data": {
      "text/html": [
       "<div>\n",
       "<style scoped>\n",
       "    .dataframe tbody tr th:only-of-type {\n",
       "        vertical-align: middle;\n",
       "    }\n",
       "\n",
       "    .dataframe tbody tr th {\n",
       "        vertical-align: top;\n",
       "    }\n",
       "\n",
       "    .dataframe thead th {\n",
       "        text-align: right;\n",
       "    }\n",
       "</style>\n",
       "<table border=\"1\" class=\"dataframe\">\n",
       "  <thead>\n",
       "    <tr style=\"text-align: right;\">\n",
       "      <th></th>\n",
       "      <th>Title</th>\n",
       "      <th>Studio</th>\n",
       "      <th>AdjustedGross</th>\n",
       "      <th>ReleaseDate</th>\n",
       "    </tr>\n",
       "  </thead>\n",
       "  <tbody>\n",
       "    <tr>\n",
       "      <th>0</th>\n",
       "      <td>101 Dalmatians</td>\n",
       "      <td>Dis.</td>\n",
       "      <td>8.572900e+08</td>\n",
       "      <td>1961-01-25</td>\n",
       "    </tr>\n",
       "    <tr>\n",
       "      <th>1</th>\n",
       "      <td>Avatar</td>\n",
       "      <td>Fox</td>\n",
       "      <td>8.344502e+08</td>\n",
       "      <td>2009-12-18</td>\n",
       "    </tr>\n",
       "    <tr>\n",
       "      <th>2</th>\n",
       "      <td>Ben-Hur</td>\n",
       "      <td>MGM</td>\n",
       "      <td>8.408400e+08</td>\n",
       "      <td>1959-11-18</td>\n",
       "    </tr>\n",
       "    <tr>\n",
       "      <th>3</th>\n",
       "      <td>Doctor Zhivago</td>\n",
       "      <td>MGM</td>\n",
       "      <td>1.070000e+09</td>\n",
       "      <td>1965-12-22</td>\n",
       "    </tr>\n",
       "    <tr>\n",
       "      <th>4</th>\n",
       "      <td>E.T.: The Extra-Terrestrial</td>\n",
       "      <td>Uni.</td>\n",
       "      <td>1.220000e+09</td>\n",
       "      <td>1982-06-11</td>\n",
       "    </tr>\n",
       "    <tr>\n",
       "      <th>5</th>\n",
       "      <td>Gone with the Wind</td>\n",
       "      <td>MGM</td>\n",
       "      <td>1.730000e+09</td>\n",
       "      <td>1939-12-15</td>\n",
       "    </tr>\n",
       "    <tr>\n",
       "      <th>6</th>\n",
       "      <td>Jaws</td>\n",
       "      <td>Uni.</td>\n",
       "      <td>1.100000e+09</td>\n",
       "      <td>1975-06-20</td>\n",
       "    </tr>\n",
       "    <tr>\n",
       "      <th>7</th>\n",
       "      <td>Snow White and the Seven Dwarfs</td>\n",
       "      <td>Dis.</td>\n",
       "      <td>9.352200e+08</td>\n",
       "      <td>1937-12-21</td>\n",
       "    </tr>\n",
       "    <tr>\n",
       "      <th>8</th>\n",
       "      <td>Star Wars</td>\n",
       "      <td>Fox</td>\n",
       "      <td>1.530000e+09</td>\n",
       "      <td>1977-05-25</td>\n",
       "    </tr>\n",
       "    <tr>\n",
       "      <th>9</th>\n",
       "      <td>Star Wars: The Force Awakens</td>\n",
       "      <td>BV</td>\n",
       "      <td>9.276696e+08</td>\n",
       "      <td>2015-12-18</td>\n",
       "    </tr>\n",
       "    <tr>\n",
       "      <th>10</th>\n",
       "      <td>The Empire Strikes Back</td>\n",
       "      <td>Fox</td>\n",
       "      <td>8.423899e+08</td>\n",
       "      <td>1980-05-21</td>\n",
       "    </tr>\n",
       "    <tr>\n",
       "      <th>11</th>\n",
       "      <td>The Exorcist</td>\n",
       "      <td>WB</td>\n",
       "      <td>9.489409e+08</td>\n",
       "      <td>1973-12-26</td>\n",
       "    </tr>\n",
       "    <tr>\n",
       "      <th>12</th>\n",
       "      <td>The Sound of Music</td>\n",
       "      <td>Fox</td>\n",
       "      <td>1.220000e+09</td>\n",
       "      <td>1965-03-02</td>\n",
       "    </tr>\n",
       "    <tr>\n",
       "      <th>13</th>\n",
       "      <td>The Ten Commandments</td>\n",
       "      <td>Par.</td>\n",
       "      <td>1.120000e+09</td>\n",
       "      <td>1956-10-05</td>\n",
       "    </tr>\n",
       "    <tr>\n",
       "      <th>14</th>\n",
       "      <td>Titanic</td>\n",
       "      <td>Par.</td>\n",
       "      <td>1.160000e+09</td>\n",
       "      <td>1997-12-19</td>\n",
       "    </tr>\n",
       "  </tbody>\n",
       "</table>\n",
       "</div>"
      ],
      "text/plain": [
       "                              Title Studio  AdjustedGross ReleaseDate\n",
       "0                    101 Dalmatians   Dis.   8.572900e+08  1961-01-25\n",
       "1                            Avatar    Fox   8.344502e+08  2009-12-18\n",
       "2                           Ben-Hur    MGM   8.408400e+08  1959-11-18\n",
       "3                    Doctor Zhivago    MGM   1.070000e+09  1965-12-22\n",
       "4       E.T.: The Extra-Terrestrial   Uni.   1.220000e+09  1982-06-11\n",
       "5                Gone with the Wind    MGM   1.730000e+09  1939-12-15\n",
       "6                              Jaws   Uni.   1.100000e+09  1975-06-20\n",
       "7   Snow White and the Seven Dwarfs   Dis.   9.352200e+08  1937-12-21\n",
       "8                         Star Wars    Fox   1.530000e+09  1977-05-25\n",
       "9      Star Wars: The Force Awakens     BV   9.276696e+08  2015-12-18\n",
       "10          The Empire Strikes Back    Fox   8.423899e+08  1980-05-21\n",
       "11                     The Exorcist     WB   9.489409e+08  1973-12-26\n",
       "12               The Sound of Music    Fox   1.220000e+09  1965-03-02\n",
       "13             The Ten Commandments   Par.   1.120000e+09  1956-10-05\n",
       "14                          Titanic   Par.   1.160000e+09  1997-12-19"
      ]
     },
     "execution_count": 2,
     "metadata": {},
     "output_type": "execute_result"
    }
   ],
   "source": [
    "movies = pd.read_csv(\"./data/movies.txt\", delimiter=\"\\t\")\n",
    "release = pd.read_csv(\"./data/releaseDates.txt\", delimiter=\"\\t\", parse_dates=[\"ReleaseDate\"])\n",
    "\n",
    "movies = movies.join(release.set_index(\"Title\"), on=\"Title\")\n",
    "movies"
   ]
  },
  {
   "cell_type": "code",
   "execution_count": 3,
   "metadata": {},
   "outputs": [
    {
     "data": {
      "text/html": [
       "<div>\n",
       "<style scoped>\n",
       "    .dataframe tbody tr th:only-of-type {\n",
       "        vertical-align: middle;\n",
       "    }\n",
       "\n",
       "    .dataframe tbody tr th {\n",
       "        vertical-align: top;\n",
       "    }\n",
       "\n",
       "    .dataframe thead th {\n",
       "        text-align: right;\n",
       "    }\n",
       "</style>\n",
       "<table border=\"1\" class=\"dataframe\">\n",
       "  <thead>\n",
       "    <tr style=\"text-align: right;\">\n",
       "      <th></th>\n",
       "      <th>Title</th>\n",
       "      <th>Studio</th>\n",
       "      <th>AdjustedGross</th>\n",
       "      <th>ReleaseDate</th>\n",
       "    </tr>\n",
       "  </thead>\n",
       "  <tbody>\n",
       "    <tr>\n",
       "      <th>0</th>\n",
       "      <td>Snow White and the Seven Dwarfs</td>\n",
       "      <td>Dis.</td>\n",
       "      <td>9.352200e+08</td>\n",
       "      <td>1937-12-21</td>\n",
       "    </tr>\n",
       "    <tr>\n",
       "      <th>1</th>\n",
       "      <td>Gone with the Wind</td>\n",
       "      <td>MGM</td>\n",
       "      <td>1.730000e+09</td>\n",
       "      <td>1939-12-15</td>\n",
       "    </tr>\n",
       "    <tr>\n",
       "      <th>2</th>\n",
       "      <td>The Ten Commandments</td>\n",
       "      <td>Par.</td>\n",
       "      <td>1.120000e+09</td>\n",
       "      <td>1956-10-05</td>\n",
       "    </tr>\n",
       "    <tr>\n",
       "      <th>3</th>\n",
       "      <td>Ben-Hur</td>\n",
       "      <td>MGM</td>\n",
       "      <td>8.408400e+08</td>\n",
       "      <td>1959-11-18</td>\n",
       "    </tr>\n",
       "    <tr>\n",
       "      <th>4</th>\n",
       "      <td>101 Dalmatians</td>\n",
       "      <td>Dis.</td>\n",
       "      <td>8.572900e+08</td>\n",
       "      <td>1961-01-25</td>\n",
       "    </tr>\n",
       "    <tr>\n",
       "      <th>5</th>\n",
       "      <td>The Sound of Music</td>\n",
       "      <td>Fox</td>\n",
       "      <td>1.220000e+09</td>\n",
       "      <td>1965-03-02</td>\n",
       "    </tr>\n",
       "    <tr>\n",
       "      <th>6</th>\n",
       "      <td>Doctor Zhivago</td>\n",
       "      <td>MGM</td>\n",
       "      <td>1.070000e+09</td>\n",
       "      <td>1965-12-22</td>\n",
       "    </tr>\n",
       "    <tr>\n",
       "      <th>7</th>\n",
       "      <td>The Exorcist</td>\n",
       "      <td>WB</td>\n",
       "      <td>9.489409e+08</td>\n",
       "      <td>1973-12-26</td>\n",
       "    </tr>\n",
       "    <tr>\n",
       "      <th>8</th>\n",
       "      <td>Jaws</td>\n",
       "      <td>Uni.</td>\n",
       "      <td>1.100000e+09</td>\n",
       "      <td>1975-06-20</td>\n",
       "    </tr>\n",
       "    <tr>\n",
       "      <th>9</th>\n",
       "      <td>Star Wars</td>\n",
       "      <td>Fox</td>\n",
       "      <td>1.530000e+09</td>\n",
       "      <td>1977-05-25</td>\n",
       "    </tr>\n",
       "    <tr>\n",
       "      <th>10</th>\n",
       "      <td>The Empire Strikes Back</td>\n",
       "      <td>Fox</td>\n",
       "      <td>8.423899e+08</td>\n",
       "      <td>1980-05-21</td>\n",
       "    </tr>\n",
       "    <tr>\n",
       "      <th>11</th>\n",
       "      <td>E.T.: The Extra-Terrestrial</td>\n",
       "      <td>Uni.</td>\n",
       "      <td>1.220000e+09</td>\n",
       "      <td>1982-06-11</td>\n",
       "    </tr>\n",
       "    <tr>\n",
       "      <th>12</th>\n",
       "      <td>Titanic</td>\n",
       "      <td>Par.</td>\n",
       "      <td>1.160000e+09</td>\n",
       "      <td>1997-12-19</td>\n",
       "    </tr>\n",
       "    <tr>\n",
       "      <th>13</th>\n",
       "      <td>Avatar</td>\n",
       "      <td>Fox</td>\n",
       "      <td>8.344502e+08</td>\n",
       "      <td>2009-12-18</td>\n",
       "    </tr>\n",
       "    <tr>\n",
       "      <th>14</th>\n",
       "      <td>Star Wars: The Force Awakens</td>\n",
       "      <td>BV</td>\n",
       "      <td>9.276696e+08</td>\n",
       "      <td>2015-12-18</td>\n",
       "    </tr>\n",
       "  </tbody>\n",
       "</table>\n",
       "</div>"
      ],
      "text/plain": [
       "                              Title Studio  AdjustedGross ReleaseDate\n",
       "0   Snow White and the Seven Dwarfs   Dis.   9.352200e+08  1937-12-21\n",
       "1                Gone with the Wind    MGM   1.730000e+09  1939-12-15\n",
       "2              The Ten Commandments   Par.   1.120000e+09  1956-10-05\n",
       "3                           Ben-Hur    MGM   8.408400e+08  1959-11-18\n",
       "4                    101 Dalmatians   Dis.   8.572900e+08  1961-01-25\n",
       "5                The Sound of Music    Fox   1.220000e+09  1965-03-02\n",
       "6                    Doctor Zhivago    MGM   1.070000e+09  1965-12-22\n",
       "7                      The Exorcist     WB   9.489409e+08  1973-12-26\n",
       "8                              Jaws   Uni.   1.100000e+09  1975-06-20\n",
       "9                         Star Wars    Fox   1.530000e+09  1977-05-25\n",
       "10          The Empire Strikes Back    Fox   8.423899e+08  1980-05-21\n",
       "11      E.T.: The Extra-Terrestrial   Uni.   1.220000e+09  1982-06-11\n",
       "12                          Titanic   Par.   1.160000e+09  1997-12-19\n",
       "13                           Avatar    Fox   8.344502e+08  2009-12-18\n",
       "14     Star Wars: The Force Awakens     BV   9.276696e+08  2015-12-18"
      ]
     },
     "execution_count": 3,
     "metadata": {},
     "output_type": "execute_result"
    }
   ],
   "source": [
    "movies.sort_values(by=\"ReleaseDate\", inplace=True, ignore_index=True)\n",
    "movies"
   ]
  },
  {
   "cell_type": "code",
   "execution_count": 4,
   "metadata": {},
   "outputs": [
    {
     "data": {
      "image/png": "[encoded data removed]",
      "text/plain": [
       "<Figure size 640x480 with 1 Axes>"
      ]
     },
     "metadata": {},
     "output_type": "display_data"
    }
   ],
   "source": [
    "plt.figure()\n",
    "plt.plot(movies.ReleaseDate, movies.AdjustedGross)\n",
    "plt.xlabel(\"Release Date\")\n",
    "plt.ylabel(\"Adjusted Gross\")\n",
    "plt.show()"
   ]
  },
  {
   "cell_type": "code",
   "execution_count": 5,
   "metadata": {},
   "outputs": [
    {
     "data": {
      "text/plain": [
       "0     Dis.\n",
       "1      MGM\n",
       "2     Par.\n",
       "3      MGM\n",
       "4     Dis.\n",
       "5      Fox\n",
       "6      MGM\n",
       "7       WB\n",
       "8     Uni.\n",
       "9      Fox\n",
       "10     Fox\n",
       "11    Uni.\n",
       "12    Par.\n",
       "13     Fox\n",
       "14      BV\n",
       "Name: Studio, dtype: category\n",
       "Categories (7, object): ['BV', 'Dis.', 'Fox', 'MGM', 'Par.', 'Uni.', 'WB']"
      ]
     },
     "execution_count": 5,
     "metadata": {},
     "output_type": "execute_result"
    }
   ],
   "source": [
    "movies.Studio = pd.Categorical(movies.Studio)\n",
    "movies.Studio"
   ]
  },
  {
   "cell_type": "code",
   "execution_count": 6,
   "metadata": {},
   "outputs": [
    {
     "data": {
      "image/png": "[encoded data removed]",
      "text/plain": [
       "<Figure size 640x480 with 1 Axes>"
      ]
     },
     "metadata": {},
     "output_type": "display_data"
    }
   ],
   "source": [
    "plt.figure()\n",
    "sns.histplot(movies.Studio.sort_values())\n",
    "plt.show()"
   ]
  },
  {
   "cell_type": "code",
   "execution_count": 7,
   "metadata": {},
   "outputs": [
    {
     "data": {
      "text/plain": [
       "1    Gone with the Wind\n",
       "3               Ben-Hur\n",
       "6        Doctor Zhivago\n",
       "Name: Title, dtype: object"
      ]
     },
     "execution_count": 7,
     "metadata": {},
     "output_type": "execute_result"
    }
   ],
   "source": [
    "mgm_index = movies.Studio == \"MGM\"\n",
    "mgm_movies = movies.Title[mgm_index]\n",
    "mgm_movies"
   ]
  },
  {
   "cell_type": "code",
   "execution_count": 8,
   "metadata": {},
   "outputs": [
    {
     "data": {
      "text/plain": [
       "Timestamp('1955-04-09 00:00:00')"
      ]
     },
     "execution_count": 8,
     "metadata": {},
     "output_type": "execute_result"
    }
   ],
   "source": [
    "mgm_ARD = movies.ReleaseDate[mgm_index].mean()\n",
    "mgm_ARD"
   ]
  }
 ],
 "metadata": {
  "kernelspec": {
   "display_name": "base",
   "language": "python",
   "name": "python3"
  },
  "language_info": {
   "codemirror_mode": {
    "name": "ipython",
    "version": 3
   },
   "file_extension": ".py",
   "mimetype": "text/x-python",
   "name": "python",
   "nbconvert_exporter": "python",
   "pygments_lexer": "ipython3",
   "version": "3.9.16"
  },
  "orig_nbformat": 4
 },
 "nbformat": 4,
 "nbformat_minor": 2
}
