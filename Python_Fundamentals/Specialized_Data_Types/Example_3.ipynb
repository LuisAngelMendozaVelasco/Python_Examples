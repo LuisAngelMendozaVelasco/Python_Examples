{
 "cells": [
  {
   "attachments": {},
   "cell_type": "markdown",
   "metadata": {},
   "source": [
    "# Creating datetime Arrays"
   ]
  },
  {
   "cell_type": "code",
   "execution_count": 1,
   "metadata": {},
   "outputs": [],
   "source": [
    "import pandas as pd"
   ]
  },
  {
   "attachments": {},
   "cell_type": "markdown",
   "metadata": {},
   "source": [
    "We can also specify the time using the [to_datetime()](https://pandas.pydata.org/docs/reference/api/pandas.to_datetime.html#pandas-to-datetime) function."
   ]
  },
  {
   "cell_type": "code",
   "execution_count": 2,
   "metadata": {},
   "outputs": [
    {
     "data": {
      "text/plain": [
       "Timestamp('2016-02-29 17:00:00')"
      ]
     },
     "execution_count": 2,
     "metadata": {},
     "output_type": "execute_result"
    }
   ],
   "source": [
    "d = pd.to_datetime(\"2016-02-29 17:00:00\")\n",
    "d"
   ]
  },
  {
   "attachments": {},
   "cell_type": "markdown",
   "metadata": {},
   "source": [
    "We can create arrays of type datetime as well."
   ]
  },
  {
   "cell_type": "code",
   "execution_count": 3,
   "metadata": {},
   "outputs": [
    {
     "data": {
      "text/plain": [
       "0   1999-02-01\n",
       "1   2000-02-01\n",
       "2   2001-02-01\n",
       "dtype: datetime64[ns]"
      ]
     },
     "execution_count": 3,
     "metadata": {},
     "output_type": "execute_result"
    }
   ],
   "source": [
    "d2 = pd.to_datetime(pd.DataFrame({'year': [1999, 2000, 2001], 'month': [2]*3, 'day': [1]*3}))\n",
    "d2"
   ]
  },
  {
   "cell_type": "code",
   "execution_count": 4,
   "metadata": {},
   "outputs": [
    {
     "data": {
      "text/plain": [
       "0   1975-01-01\n",
       "1   1975-01-02\n",
       "2   1975-01-03\n",
       "3   1975-01-04\n",
       "dtype: datetime64[ns]"
      ]
     },
     "execution_count": 4,
     "metadata": {},
     "output_type": "execute_result"
    }
   ],
   "source": [
    "d3 = pd.to_datetime(pd.DataFrame({'year': [1975]*4, 'month': [1]*4, 'day': [1, 2, 3, 4]}))\n",
    "d3"
   ]
  },
  {
   "cell_type": "code",
   "execution_count": 5,
   "metadata": {},
   "outputs": [
    {
     "data": {
      "text/plain": [
       "0    1990-01-01\n",
       "1    1990-02-01\n",
       "2    1990-03-01\n",
       "3    1990-04-01\n",
       "4    1990-05-01\n",
       "5    1990-06-01\n",
       "6    1990-07-01\n",
       "7    1990-08-01\n",
       "8    1990-09-01\n",
       "9    1990-10-01\n",
       "10   1990-11-01\n",
       "11   1990-12-01\n",
       "dtype: datetime64[ns]"
      ]
     },
     "execution_count": 5,
     "metadata": {},
     "output_type": "execute_result"
    }
   ],
   "source": [
    "d4 = pd.to_datetime(pd.DataFrame({'year': [1990]*12, 'month': [i for i in range(1, 13)], 'day': [1]*12}))\n",
    "d4"
   ]
  }
 ],
 "metadata": {
  "kernelspec": {
   "display_name": "base",
   "language": "python",
   "name": "python3"
  },
  "language_info": {
   "codemirror_mode": {
    "name": "ipython",
    "version": 3
   },
   "file_extension": ".py",
   "mimetype": "text/x-python",
   "name": "python",
   "nbconvert_exporter": "python",
   "pygments_lexer": "ipython3",
   "version": "3.9.16"
  },
  "orig_nbformat": 4
 },
 "nbformat": 4,
 "nbformat_minor": 2
}
