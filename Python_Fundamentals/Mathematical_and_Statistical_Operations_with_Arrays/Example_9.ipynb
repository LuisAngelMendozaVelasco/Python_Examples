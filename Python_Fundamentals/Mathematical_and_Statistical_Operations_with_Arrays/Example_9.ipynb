{
 "cells": [
  {
   "attachments": {},
   "cell_type": "markdown",
   "metadata": {},
   "source": [
    "# Monitoring Loon Populations"
   ]
  },
  {
   "cell_type": "code",
   "execution_count": 1,
   "metadata": {},
   "outputs": [],
   "source": [
    "import numpy as np"
   ]
  },
  {
   "cell_type": "code",
   "execution_count": 2,
   "metadata": {},
   "outputs": [],
   "source": [
    "population_change = np.array([[0, 0, 0, .145],\n",
    "                              [.6, .375, 0, 0],\n",
    "                              [0, .225, .56, .05],\n",
    "                              [0, 0, .35, .86]])\n",
    "\n",
    "loons = np.array([[41, 61, 52, 62]])"
   ]
  },
  {
   "attachments": {},
   "cell_type": "markdown",
   "metadata": {},
   "source": [
    "The current loon population is stored in the variable loons, and the population change matrix is stored in population_change."
   ]
  },
  {
   "cell_type": "code",
   "execution_count": 3,
   "metadata": {},
   "outputs": [
    {
     "data": {
      "text/plain": [
       "array([[ 8.99 ],\n",
       "       [47.475],\n",
       "       [45.945],\n",
       "       [71.52 ]])"
      ]
     },
     "execution_count": 3,
     "metadata": {},
     "output_type": "execute_result"
    }
   ],
   "source": [
    "loons_next_year = population_change.dot(loons.T)\n",
    "loons_next_year"
   ]
  },
  {
   "attachments": {},
   "cell_type": "markdown",
   "metadata": {},
   "source": [
    "The loon population is aging, and the total number of loons went down. We can apply matrix multiplication again to get the expected population two years from now."
   ]
  },
  {
   "cell_type": "code",
   "execution_count": 4,
   "metadata": {},
   "outputs": [
    {
     "data": {
      "text/plain": [
       "array([[10.3704  ],\n",
       "       [23.197125],\n",
       "       [39.987075],\n",
       "       [77.58795 ]])"
      ]
     },
     "execution_count": 4,
     "metadata": {},
     "output_type": "execute_result"
    }
   ],
   "source": [
    "loons_2years = population_change.dot(population_change).dot(loons.T)\n",
    "loons_2years"
   ]
  },
  {
   "cell_type": "code",
   "execution_count": 5,
   "metadata": {},
   "outputs": [
    {
     "data": {
      "text/plain": [
       "array([[0.0006748 , 0.00105719, 0.00265471, 0.00288226],\n",
       "       [0.0007166 , 0.00112267, 0.00281916, 0.00306081],\n",
       "       [0.0009999 , 0.00156651, 0.00393369, 0.00427087],\n",
       "       [0.00437456, 0.00685348, 0.01720986, 0.018685  ]])"
      ]
     },
     "execution_count": 5,
     "metadata": {},
     "output_type": "execute_result"
    }
   ],
   "source": [
    "population_change_60years = np.linalg.matrix_power(population_change, 60)\n",
    "population_change_60years"
   ]
  },
  {
   "cell_type": "code",
   "execution_count": 6,
   "metadata": {},
   "outputs": [
    {
     "data": {
      "text/plain": [
       "array([[0.40890024],\n",
       "       [0.43423017],\n",
       "       [0.60589937],\n",
       "       [2.65080219]])"
      ]
     },
     "execution_count": 6,
     "metadata": {},
     "output_type": "execute_result"
    }
   ],
   "source": [
    "loons_60years = population_change_60years.dot(loons.T)\n",
    "loons_60years"
   ]
  },
  {
   "attachments": {},
   "cell_type": "markdown",
   "metadata": {},
   "source": [
    "Create a vector of target loon populations."
   ]
  },
  {
   "cell_type": "code",
   "execution_count": 7,
   "metadata": {},
   "outputs": [],
   "source": [
    "loon_goal = np.array([[9, 50, 50, 75]])"
   ]
  },
  {
   "attachments": {},
   "cell_type": "markdown",
   "metadata": {},
   "source": [
    "With this model, it looks like the loon population will die out. If a target loon population is given, stored in the variable loon_goal, let's calculate the starting population needed to get us there in a year. This is equivalent to solving population_change∗x = loon_goal for a vector of initial populations, x.\n",
    "To solve a system of linear equations, Ax=B, we can use the [solve()](https://numpy.org/doc/stable/reference/generated/numpy.linalg.solve.html#numpy-linalg-solve) function."
   ]
  },
  {
   "cell_type": "code",
   "execution_count": 8,
   "metadata": {},
   "outputs": [
    {
     "data": {
      "text/plain": [
       "array([[49.15708812],\n",
       "       [54.68199234],\n",
       "       [61.77339901],\n",
       "       [62.06896552]])"
      ]
     },
     "execution_count": 8,
     "metadata": {},
     "output_type": "execute_result"
    }
   ],
   "source": [
    "required_population = np.linalg.solve(population_change, loon_goal.T)\n",
    "required_population"
   ]
  },
  {
   "attachments": {},
   "cell_type": "markdown",
   "metadata": {},
   "source": [
    "Create a matrix whose columns are the original and trial loon populations."
   ]
  },
  {
   "cell_type": "code",
   "execution_count": 9,
   "metadata": {},
   "outputs": [],
   "source": [
    "loon_populations = np.array([[41, 110, 14, 23],\n",
    "                              [61, 54, 36, 67],\n",
    "                              [52, 21, 102, 81],\n",
    "                              [62, 5, 153, 28]])"
   ]
  },
  {
   "attachments": {},
   "cell_type": "markdown",
   "metadata": {},
   "source": [
    "A matrix whose columns are the original loon population and three other theoretical starting population has been created and saved to the variable loon_populations."
   ]
  },
  {
   "cell_type": "code",
   "execution_count": 10,
   "metadata": {},
   "outputs": [
    {
     "data": {
      "text/plain": [
       "array([[0.40890024, 0.20147619, 0.75927229, 0.38208676],\n",
       "       [0.43423017, 0.21395693, 0.80630653, 0.40575569],\n",
       "       [0.60589937, 0.29854298, 1.12507295, 0.56616775],\n",
       "       [2.65080219, 1.30612181, 4.92218016, 2.47697685]])"
      ]
     },
     "execution_count": 10,
     "metadata": {},
     "output_type": "execute_result"
    }
   ],
   "source": [
    "loons_compare = population_change_60years.dot(loon_populations)\n",
    "loons_compare"
   ]
  }
 ],
 "metadata": {
  "kernelspec": {
   "display_name": "base",
   "language": "python",
   "name": "python3"
  },
  "language_info": {
   "codemirror_mode": {
    "name": "ipython",
    "version": 3
   },
   "file_extension": ".py",
   "mimetype": "text/x-python",
   "name": "python",
   "nbconvert_exporter": "python",
   "pygments_lexer": "ipython3",
   "version": "3.9.16"
  },
  "orig_nbformat": 4
 },
 "nbformat": 4,
 "nbformat_minor": 2
}
