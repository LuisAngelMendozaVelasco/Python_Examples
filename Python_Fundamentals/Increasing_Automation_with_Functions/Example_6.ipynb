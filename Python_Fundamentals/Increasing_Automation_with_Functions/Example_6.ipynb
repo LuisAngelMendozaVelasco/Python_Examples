{
 "cells": [
  {
   "attachments": {},
   "cell_type": "markdown",
   "metadata": {},
   "source": [
    "# Call the Pyramid Function"
   ]
  },
  {
   "attachments": {},
   "cell_type": "markdown",
   "metadata": {},
   "source": [
    "The nth pyramid number, P(n), represents the number of blocks in a pyramid made from an n-by-n square of blocks at the base, an (n-1)-by-(n-1) square on top of that, and so on.\n",
    "Therefore, the first four pyramid numbers, for example, are:\n",
    "- P(1) = 1\n",
    "- P(2) = 1 + 4 = 5\n",
    "- P(3) = 5 + 9 = 14\n",
    "- P(4) = 14 + 16 = 30"
   ]
  },
  {
   "cell_type": "code",
   "execution_count": 1,
   "metadata": {},
   "outputs": [],
   "source": [
    "def pyramid(n):\n",
    "    P = sum([i**2 for i in range(1, n+1)])\n",
    "\n",
    "    return P"
   ]
  },
  {
   "cell_type": "code",
   "execution_count": 2,
   "metadata": {},
   "outputs": [
    {
     "data": {
      "text/plain": [
       "3109085"
      ]
     },
     "execution_count": 2,
     "metadata": {},
     "output_type": "execute_result"
    }
   ],
   "source": [
    "khufu = pyramid(210)\n",
    "khufu"
   ]
  }
 ],
 "metadata": {
  "kernelspec": {
   "display_name": "base",
   "language": "python",
   "name": "python3"
  },
  "language_info": {
   "codemirror_mode": {
    "name": "ipython",
    "version": 3
   },
   "file_extension": ".py",
   "mimetype": "text/x-python",
   "name": "python",
   "nbconvert_exporter": "python",
   "pygments_lexer": "ipython3",
   "version": "3.9.16"
  },
  "orig_nbformat": 4
 },
 "nbformat": 4,
 "nbformat_minor": 2
}
