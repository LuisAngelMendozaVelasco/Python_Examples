{
 "cells": [
  {
   "attachments": {},
   "cell_type": "markdown",
   "metadata": {},
   "source": [
    "# Converting Code to a Local Function"
   ]
  },
  {
   "cell_type": "code",
   "execution_count": 1,
   "metadata": {},
   "outputs": [],
   "source": [
    "import pandas as pd\n",
    "import matplotlib.pyplot as plt\n",
    "import seaborn as sns\n",
    "import numpy as np\n",
    "\n",
    "sns.set_style(\"whitegrid\")"
   ]
  },
  {
   "cell_type": "code",
   "execution_count": 2,
   "metadata": {},
   "outputs": [],
   "source": [
    "golds = pd.read_excel(\"./data/medals.xlsx\", sheet_name='golds', header=None)\n",
    "medals = pd.read_excel(\"./data/medals.xlsx\", sheet_name='medals', header=None)"
   ]
  },
  {
   "cell_type": "code",
   "execution_count": 3,
   "metadata": {},
   "outputs": [
    {
     "data": {
      "image/png": "[encoded data removed]",
      "text/plain": [
       "<Figure size 640x480 with 1 Axes>"
      ]
     },
     "metadata": {},
     "output_type": "display_data"
    }
   ],
   "source": [
    "plt.figure()\n",
    "sns.histplot(medals, bins=12, legend=False)\n",
    "plt.xlabel(\"Medal count\")\n",
    "plt.ylabel(\"Number of teams\")\n",
    "plt.show()"
   ]
  },
  {
   "attachments": {},
   "cell_type": "markdown",
   "metadata": {},
   "source": [
    "The data file contains counts for the total medals won by each country, plus counts for gold, silver, and bronze medals individually."
   ]
  },
  {
   "cell_type": "code",
   "execution_count": 4,
   "metadata": {},
   "outputs": [],
   "source": [
    "def paretoperc(x):\n",
    "    # Cumulative contribution of data points (in order)\n",
    "    cc = x.sort_values(by=0, ignore_index=True, ascending=False).cumsum()\n",
    "    cc = 100 * cc / cc.iloc[-1]                # Normalize to percentage\n",
    "    # Corresponding percentiles (column vector to match cc)\n",
    "    pct = np.arange(1, x.size+1)\n",
    "    pct = 100 * pct / pct.size           # Normalize to percentage\n",
    "    # Find the number of data values needed so that P% of the data is in (100-P)% of the values\n",
    "    idx = np.where(cc.to_numpy().squeeze() >= (100 - pct))[0][0]\n",
    "    pp = cc.iloc[idx][0]\n",
    "\n",
    "    return pp"
   ]
  },
  {
   "cell_type": "code",
   "execution_count": 5,
   "metadata": {},
   "outputs": [
    {
     "data": {
      "text/plain": [
       "75.64814814814815"
      ]
     },
     "execution_count": 5,
     "metadata": {},
     "output_type": "execute_result"
    }
   ],
   "source": [
    "pp = paretoperc(medals)\n",
    "pp"
   ]
  },
  {
   "cell_type": "code",
   "execution_count": 6,
   "metadata": {},
   "outputs": [
    {
     "data": {
      "text/plain": [
       "73.82352941176471"
      ]
     },
     "execution_count": 6,
     "metadata": {},
     "output_type": "execute_result"
    }
   ],
   "source": [
    "ppgold = paretoperc(golds)\n",
    "ppgold"
   ]
  }
 ],
 "metadata": {
  "kernelspec": {
   "display_name": "base",
   "language": "python",
   "name": "python3"
  },
  "language_info": {
   "codemirror_mode": {
    "name": "ipython",
    "version": 3
   },
   "file_extension": ".py",
   "mimetype": "text/x-python",
   "name": "python",
   "nbconvert_exporter": "python",
   "pygments_lexer": "ipython3",
   "version": "3.9.16"
  },
  "orig_nbformat": 4
 },
 "nbformat": 4,
 "nbformat_minor": 2
}
