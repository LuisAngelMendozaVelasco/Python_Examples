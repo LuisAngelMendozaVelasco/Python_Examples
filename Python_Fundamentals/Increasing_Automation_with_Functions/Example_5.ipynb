{
 "cells": [
  {
   "attachments": {},
   "cell_type": "markdown",
   "metadata": {},
   "source": [
    "# Viewing Base and Function Workspaces"
   ]
  },
  {
   "cell_type": "code",
   "execution_count": 1,
   "metadata": {},
   "outputs": [
    {
     "name": "stdout",
     "output_type": "stream",
     "text": [
      "Before Task 1, base workspace variables are: x, y\n",
      "x = 3, y = -2\n"
     ]
    }
   ],
   "source": [
    "x = 3\n",
    "y = -2\n",
    "variables = %who_ls\n",
    "print(\"Before Task 1, base workspace variables are: \" + \", \".join(variables))\n",
    "print(\"x = \" + str(x) + \", y = \" + str(y))"
   ]
  },
  {
   "cell_type": "code",
   "execution_count": 2,
   "metadata": {},
   "outputs": [],
   "source": [
    "def add1anddouble(x):\n",
    "    variables = %who_ls\n",
    "    print(\"-----------------------------------------------------\")\n",
    "    print(\"Now inside add1anddouble, variables are: \" + \", \".join(variables,))\n",
    "    print(\"x = \" + str(x))\n",
    "\n",
    "    x = x + 1\n",
    "    y = 2 * x\n",
    "\n",
    "    variables = %who_ls\n",
    "    print(\"Done with add1anddouble, variables are: \" + \", \".join(variables,))\n",
    "    print(\"x = \" + str(x) + \", y = \" + str(y))\n",
    "    print(\"-----------------------------------------------------\")\n",
    "\n",
    "    return y"
   ]
  },
  {
   "attachments": {},
   "cell_type": "markdown",
   "metadata": {},
   "source": [
    "The %who_ls function returns the names of the variables in the current workspace. This script uses w%who_ls to show the variables in the base workspace and the workspace of the local function add1anddouble. Both the script and add1anddouble use the variable names x and y. The print statements show the current values of these variables.\n",
    "Every function has its own workspace, regardless of whether it is a local function within a script or a function defined in a separate file."
   ]
  },
  {
   "cell_type": "code",
   "execution_count": 3,
   "metadata": {},
   "outputs": [
    {
     "name": "stdout",
     "output_type": "stream",
     "text": [
      "-----------------------------------------------------\n",
      "Now inside add1anddouble, variables are: add1anddouble, variables, x, y\n",
      "x = 5\n",
      "Done with add1anddouble, variables are: add1anddouble, variables, x, y\n",
      "x = 6, y = 12\n",
      "-----------------------------------------------------\n"
     ]
    }
   ],
   "source": [
    "z = add1anddouble(5)"
   ]
  },
  {
   "cell_type": "code",
   "execution_count": 4,
   "metadata": {},
   "outputs": [
    {
     "name": "stdout",
     "output_type": "stream",
     "text": [
      "Before Task 1, base workspace variables are: add1anddouble, variables, x, y, z\n",
      "x = 3, y = -2, z = 12\n"
     ]
    }
   ],
   "source": [
    "variables = %who_ls\n",
    "print(\"Before Task 1, base workspace variables are: \" + \", \".join(variables))\n",
    "print(\"x = \" + str(x) + \", y = \" + str(y) + \", z = \" + str(z))"
   ]
  },
  {
   "attachments": {},
   "cell_type": "markdown",
   "metadata": {},
   "source": [
    "The function add1anddouble creates and modifies variables x and y in its local workspace. Note, though, that this has no effect on the variables x and y in the base workspace. The output from add1anddouble was assigned to the new variable z in the base workspace."
   ]
  },
  {
   "cell_type": "code",
   "execution_count": 5,
   "metadata": {},
   "outputs": [
    {
     "name": "stdout",
     "output_type": "stream",
     "text": [
      "-----------------------------------------------------\n",
      "Now inside add1anddouble, variables are: add1anddouble, variables, x, y, z\n",
      "x = 3\n",
      "Done with add1anddouble, variables are: add1anddouble, variables, x, y, z\n",
      "x = 4, y = 8\n",
      "-----------------------------------------------------\n"
     ]
    }
   ],
   "source": [
    "y = add1anddouble(x)"
   ]
  },
  {
   "cell_type": "code",
   "execution_count": 6,
   "metadata": {},
   "outputs": [
    {
     "name": "stdout",
     "output_type": "stream",
     "text": [
      "Before Task 1, base workspace variables are: add1anddouble, variables, x, y, z\n",
      "x = 3, y = 8, z = 12\n"
     ]
    }
   ],
   "source": [
    "variables = %who_ls\n",
    "print(\"Before Task 1, base workspace variables are: \" + \", \".join(variables))\n",
    "print(\"x = \" + str(x) + \", y = \" + str(y) + \", z = \" + str(z))"
   ]
  }
 ],
 "metadata": {
  "kernelspec": {
   "display_name": "base",
   "language": "python",
   "name": "python3"
  },
  "language_info": {
   "codemirror_mode": {
    "name": "ipython",
    "version": 3
   },
   "file_extension": ".py",
   "mimetype": "text/x-python",
   "name": "python",
   "nbconvert_exporter": "python",
   "pygments_lexer": "ipython3",
   "version": "3.9.16"
  },
  "orig_nbformat": 4
 },
 "nbformat": 4,
 "nbformat_minor": 2
}
