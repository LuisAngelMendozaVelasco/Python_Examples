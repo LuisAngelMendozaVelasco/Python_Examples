{
 "cells": [
  {
   "attachments": {},
   "cell_type": "markdown",
   "metadata": {},
   "source": [
    "# World's Tallest Buildings"
   ]
  },
  {
   "cell_type": "code",
   "execution_count": 1,
   "metadata": {},
   "outputs": [],
   "source": [
    "import pandas as pd"
   ]
  },
  {
   "cell_type": "code",
   "execution_count": 2,
   "metadata": {},
   "outputs": [
    {
     "data": {
      "text/html": [
       "<div>\n",
       "<style scoped>\n",
       "    .dataframe tbody tr th:only-of-type {\n",
       "        vertical-align: middle;\n",
       "    }\n",
       "\n",
       "    .dataframe tbody tr th {\n",
       "        vertical-align: top;\n",
       "    }\n",
       "\n",
       "    .dataframe thead th {\n",
       "        text-align: right;\n",
       "    }\n",
       "</style>\n",
       "<table border=\"1\" class=\"dataframe\">\n",
       "  <thead>\n",
       "    <tr style=\"text-align: right;\">\n",
       "      <th></th>\n",
       "      <th>bldg_name</th>\n",
       "      <th>city</th>\n",
       "      <th>height_m</th>\n",
       "      <th>stories</th>\n",
       "      <th>yr</th>\n",
       "    </tr>\n",
       "  </thead>\n",
       "  <tbody>\n",
       "    <tr>\n",
       "      <th>0</th>\n",
       "      <td>Burj Dubai</td>\n",
       "      <td>Dubai</td>\n",
       "      <td>818.0832</td>\n",
       "      <td>162</td>\n",
       "      <td>2009.0</td>\n",
       "    </tr>\n",
       "    <tr>\n",
       "      <th>1</th>\n",
       "      <td>Taipei 101</td>\n",
       "      <td>Taipei</td>\n",
       "      <td>509.3208</td>\n",
       "      <td>101</td>\n",
       "      <td>2004.0</td>\n",
       "    </tr>\n",
       "    <tr>\n",
       "      <th>2</th>\n",
       "      <td>Shanghai World Financial Center</td>\n",
       "      <td>Shanghai</td>\n",
       "      <td>491.9472</td>\n",
       "      <td>101</td>\n",
       "      <td>2008.0</td>\n",
       "    </tr>\n",
       "    <tr>\n",
       "      <th>3</th>\n",
       "      <td>Petronas Tower 1</td>\n",
       "      <td>Kuala Lumpur</td>\n",
       "      <td>452.0184</td>\n",
       "      <td>88</td>\n",
       "      <td>1998.0</td>\n",
       "    </tr>\n",
       "    <tr>\n",
       "      <th>4</th>\n",
       "      <td>Petronas Tower 2</td>\n",
       "      <td>Kuala Lumpur</td>\n",
       "      <td>452.0184</td>\n",
       "      <td>88</td>\n",
       "      <td>1998.0</td>\n",
       "    </tr>\n",
       "  </tbody>\n",
       "</table>\n",
       "</div>"
      ],
      "text/plain": [
       "                         bldg_name          city  height_m  stories      yr\n",
       "0                      Burj Dubai          Dubai  818.0832      162  2009.0\n",
       "1                      Taipei 101         Taipei  509.3208      101  2004.0\n",
       "2  Shanghai World Financial Center      Shanghai  491.9472      101  2008.0\n",
       "3                Petronas Tower 1   Kuala Lumpur  452.0184       88  1998.0\n",
       "4                Petronas Tower 2   Kuala Lumpur  452.0184       88  1998.0"
      ]
     },
     "execution_count": 2,
     "metadata": {},
     "output_type": "execute_result"
    }
   ],
   "source": [
    "tallest_buildings = pd.read_csv(\"./data/tallestBldgs.csv\")\n",
    "tallest_buildings.head()"
   ]
  },
  {
   "attachments": {},
   "cell_type": "markdown",
   "metadata": {},
   "source": [
    "The file tallestBldgs.csv contains data for the 200 tallest buildings in the world. There are five variables:\n",
    "* bldg_name: building name\n",
    "* city: city in which the building is located\n",
    "* height_m: height in meters\n",
    "* stories: the number of stories\n",
    "* yr: the year in which the building was structurally completed."
   ]
  },
  {
   "attachments": {},
   "cell_type": "markdown",
   "metadata": {},
   "source": [
    "Number of buildings higher than 400 m."
   ]
  },
  {
   "cell_type": "code",
   "execution_count": 3,
   "metadata": {},
   "outputs": [
    {
     "data": {
      "text/plain": [
       "11"
      ]
     },
     "execution_count": 3,
     "metadata": {},
     "output_type": "execute_result"
    }
   ],
   "source": [
    "n400 = (tallest_buildings.height_m > 400).sum()\n",
    "n400"
   ]
  },
  {
   "cell_type": "code",
   "execution_count": 4,
   "metadata": {},
   "outputs": [
    {
     "data": {
      "text/plain": [
       "0                            Burj Dubai \n",
       "1                            Taipei 101 \n",
       "2        Shanghai World Financial Center\n",
       "3                      Petronas Tower 1 \n",
       "4                      Petronas Tower 2 \n",
       "5     Nanjing Greenland Financial Center\n",
       "6                           Sears Tower \n",
       "7                  Guangzhou West Tower \n",
       "8                         Jin Mao Tower \n",
       "9       Two International Finance Centre\n",
       "10     Trump International Hotel & Tower\n",
       "Name: bldg_name, dtype: object"
      ]
     },
     "execution_count": 4,
     "metadata": {},
     "output_type": "execute_result"
    }
   ],
   "source": [
    "b400 = tallest_buildings.bldg_name[tallest_buildings.height_m > 400]\n",
    "b400"
   ]
  },
  {
   "cell_type": "code",
   "execution_count": 5,
   "metadata": {},
   "outputs": [
    {
     "data": {
      "text/plain": [
       "3    Petronas Tower 1 \n",
       "4    Petronas Tower 2 \n",
       "6         Sears Tower \n",
       "8       Jin Mao Tower \n",
       "Name: bldg_name, dtype: object"
      ]
     },
     "execution_count": 5,
     "metadata": {},
     "output_type": "execute_result"
    }
   ],
   "source": [
    "b400_old = tallest_buildings.bldg_name[(tallest_buildings.height_m > 400) & (tallest_buildings.yr < 2000)]\n",
    "b400_old"
   ]
  },
  {
   "cell_type": "code",
   "execution_count": 6,
   "metadata": {},
   "outputs": [
    {
     "data": {
      "text/plain": [
       "13              Empire State Building \n",
       "31                  Chrysler Building \n",
       "56     American International Building\n",
       "65                 The Trump Building \n",
       "113                       GE Building \n",
       "Name: bldg_name, dtype: object"
      ]
     },
     "execution_count": 6,
     "metadata": {},
     "output_type": "execute_result"
    }
   ],
   "source": [
    "b250_old = tallest_buildings.bldg_name[(tallest_buildings.height_m > 250) & (tallest_buildings.yr < 1950)]\n",
    "b250_old"
   ]
  },
  {
   "cell_type": "code",
   "execution_count": 7,
   "metadata": {},
   "outputs": [
    {
     "data": {
      "text/plain": [
       "13     New York City\n",
       "31     New York City\n",
       "56     New York City\n",
       "65     New York City\n",
       "113    New York City\n",
       "Name: city, dtype: object"
      ]
     },
     "execution_count": 7,
     "metadata": {},
     "output_type": "execute_result"
    }
   ],
   "source": [
    "b250_old_city = tallest_buildings.city[(tallest_buildings.height_m > 250) & (tallest_buildings.yr < 1950)]\n",
    "b250_old_city"
   ]
  }
 ],
 "metadata": {
  "kernelspec": {
   "display_name": "base",
   "language": "python",
   "name": "python3"
  },
  "language_info": {
   "codemirror_mode": {
    "name": "ipython",
    "version": 3
   },
   "file_extension": ".py",
   "mimetype": "text/x-python",
   "name": "python",
   "nbconvert_exporter": "python",
   "pygments_lexer": "ipython3",
   "version": "3.9.16"
  },
  "orig_nbformat": 4
 },
 "nbformat": 4,
 "nbformat_minor": 2
}
